{
 "cells": [
  {
   "cell_type": "markdown",
   "metadata": {},
   "source": [
    "# \n",
    "<h1 style=\"text-align:center;color:#707B7C;\">Students Adaptability Level in Online Education</h1>\n",
    "\n"
   ]
  },
  {
   "cell_type": "markdown",
   "metadata": {},
   "source": [
    "\n",
    "<h1 style=\"text-align:center;color:#1A5276;\">Effectiveness of online education</h1>"
   ]
  },
  {
   "cell_type": "markdown",
   "metadata": {},
   "source": [
    "<h5 style=\"text-align:left;color:#1A5276;\">Dataset</h5>\n",
    "\n",
    "**Introduction**\n",
    "\n",
    "Machine learning is a great opportunity to test some techniques to predict the outcome of predicting the adaptability level of students in online education using machine learning approaches.\n",
    "(Machine learning is a great opportunity to try some techniques to predict the outcome of Students’ Adaptability Level Prediction in Online Education using Machine Learning Approaches.)\n",
    "\n",
    "\n",
    "<h5 style=\"text-align:left;color:#1A5276;\">Fuente</h5>\n",
    "\n",
    "\n",
    "\n",
    "(The original research paper. Students' Adaptability Level Prediction in Online Education using Machine Learning Approaches or DOI: 10.1109/ICCCNT51525.2021.9579741)\n",
    "\n",
    "https://www.kaggle.com/datasets/mdmahmudulhasansuzan/students-adaptability-level-in-online-education\n",
    "\n",
    "<h5 style=\"text-align:left;color:#1A5276;\">Inspiratiion</h5>\n",
    "\n",
    "To get an idea about the effectiveness of online education and how could be improve it\n",
    "\n",
    "<h5 style=\"text-align:left;color:#1A5276;\">Variables</h5>\n",
    "\n",
    "The target feature is:\n",
    "Adaptivity level\n",
    "\n",
    "The feature sets are:\n",
    "Gender |\n",
    "Age|\n",
    "Education Level|\n",
    "Institution Type|\n",
    "IT Student|\n",
    "Location in Town|\n",
    "Load-shedding|\n",
    "Financial Condition|\n",
    "Internet Type|\n",
    "Network Type|\n"
   ]
  },
  {
   "cell_type": "markdown",
   "metadata": {},
   "source": [
    "\n",
    "<h5 style=\"text-align:left;color:#1A5276;\">Librarys</h5>"
   ]
  },
  {
   "cell_type": "code",
   "execution_count": 69,
   "metadata": {},
   "outputs": [],
   "source": [
    "import pandas as pd\n",
    "import numpy as np\n",
    "import matplotlib.pyplot as plt\n",
    "from sklearn import metrics, preprocessing, tree\n",
    "from sklearn.model_selection import train_test_split\n",
    "from sklearn.preprocessing import StandardScaler\n",
    "from sklearn.metrics import roc_auc_score, accuracy_score, plot_confusion_matrix,classification_report\n",
    "from sklearn.naive_bayes import GaussianNB\n",
    "from sklearn.neighbors import KNeighborsClassifier\n",
    "from scipy.stats import mode\n",
    "import seaborn as sns\n",
    "from sklearn.decomposition import PCA\n",
    "from sklearn.pipeline import Pipeline\n",
    "from sklearn.linear_model import LogisticRegression,LinearRegression\n",
    "from sklearn.tree import DecisionTreeClassifier\n",
    "from sklearn.ensemble import RandomForestClassifier\n",
    "from sklearn.model_selection import GridSearchCV\n",
    "from sklearn.preprocessing import MaxAbsScaler,StandardScaler\n",
    "from imblearn.over_sampling import SMOTE\n",
    "from IPython.display import display, HTML\n",
    "from sklearn.neighbors import KNeighborsClassifier as knn\n",
    "from sklearn.ensemble import AdaBoostClassifier\n",
    "from sklearn.tree import DecisionTreeRegressor\n",
    "from sklearn.metrics import classification_report\n",
    "from IPython.display import Image\n",
    "\n"
   ]
  },
  {
   "cell_type": "markdown",
   "metadata": {},
   "source": [
    "<h1 style=\"text-align:center;color:#1A5276;\"> Preparation of data</h1>\n",
    "\n",
    "Let's read the file on students_adaptability_level_online_education.csv"
   ]
  },
  {
   "cell_type": "code",
   "execution_count": 70,
   "metadata": {},
   "outputs": [
    {
     "name": "stdout",
     "output_type": "stream",
     "text": [
      "Total de rows:  1205 Total de columns:  14\n"
     ]
    }
   ],
   "source": [
    "data_raw = pd.read_csv('students_adaptability_level_online_education.csv')\n",
    "print('Total de rows: ',data_raw.shape[0],'Total de columns: ',data_raw.shape[1])"
   ]
  },
  {
   "cell_type": "markdown",
   "metadata": {},
   "source": [
    "<h5 style=\"text-align:left;color:#1A5276;\">DATA EXPLORATORY</h5>"
   ]
  },
  {
   "cell_type": "markdown",
   "metadata": {},
   "source": [
    "Rename of columns"
   ]
  },
  {
   "cell_type": "code",
   "execution_count": 71,
   "metadata": {},
   "outputs": [],
   "source": [
    "data_raw.rename(columns={\"Gender\":\"gender\",\"Age\":\"age\",\"Education Level\":\"education_level\",\n",
    "\"Institution Type\":\"institution_type\",\"IT Student\":\"IT_student\",\"Location\":\"location\",\n",
    "\"Load-shedding\":\"electricity_supply\",\"Financial Condition\":\"financial_condition\",\n",
    "\"Internet Type\":\"internet_type\",\"Network Type\":\"network_type\",\"Class Duration\":\"class_duration\",\n",
    "\"Self Lms\":\"learning_system\",\"Device\":\"device\",\"Adaptivity Level\":\"adaptivity_level\",\n",
    "} ,inplace=True)"
   ]
  },
  {
   "cell_type": "code",
   "execution_count": 72,
   "metadata": {},
   "outputs": [
    {
     "data": {
      "text/html": [
       "<div>\n",
       "<style scoped>\n",
       "    .dataframe tbody tr th:only-of-type {\n",
       "        vertical-align: middle;\n",
       "    }\n",
       "\n",
       "    .dataframe tbody tr th {\n",
       "        vertical-align: top;\n",
       "    }\n",
       "\n",
       "    .dataframe thead th {\n",
       "        text-align: right;\n",
       "    }\n",
       "</style>\n",
       "<table border=\"1\" class=\"dataframe\">\n",
       "  <thead>\n",
       "    <tr style=\"text-align: right;\">\n",
       "      <th></th>\n",
       "      <th>gender</th>\n",
       "      <th>age</th>\n",
       "      <th>education_level</th>\n",
       "      <th>institution_type</th>\n",
       "      <th>IT_student</th>\n",
       "      <th>location</th>\n",
       "      <th>electricity_supply</th>\n",
       "      <th>financial_condition</th>\n",
       "      <th>internet_type</th>\n",
       "      <th>network_type</th>\n",
       "      <th>class_duration</th>\n",
       "      <th>learning_system</th>\n",
       "      <th>device</th>\n",
       "      <th>adaptivity_level</th>\n",
       "    </tr>\n",
       "  </thead>\n",
       "  <tbody>\n",
       "    <tr>\n",
       "      <th>0</th>\n",
       "      <td>Boy</td>\n",
       "      <td>21-25</td>\n",
       "      <td>University</td>\n",
       "      <td>Non Government</td>\n",
       "      <td>No</td>\n",
       "      <td>Yes</td>\n",
       "      <td>Low</td>\n",
       "      <td>Mid</td>\n",
       "      <td>Wifi</td>\n",
       "      <td>4G</td>\n",
       "      <td>3-6</td>\n",
       "      <td>No</td>\n",
       "      <td>Tab</td>\n",
       "      <td>Moderate</td>\n",
       "    </tr>\n",
       "    <tr>\n",
       "      <th>1</th>\n",
       "      <td>Girl</td>\n",
       "      <td>21-25</td>\n",
       "      <td>University</td>\n",
       "      <td>Non Government</td>\n",
       "      <td>No</td>\n",
       "      <td>Yes</td>\n",
       "      <td>High</td>\n",
       "      <td>Mid</td>\n",
       "      <td>Mobile Data</td>\n",
       "      <td>4G</td>\n",
       "      <td>1-3</td>\n",
       "      <td>Yes</td>\n",
       "      <td>Mobile</td>\n",
       "      <td>Moderate</td>\n",
       "    </tr>\n",
       "    <tr>\n",
       "      <th>2</th>\n",
       "      <td>Girl</td>\n",
       "      <td>16-20</td>\n",
       "      <td>College</td>\n",
       "      <td>Government</td>\n",
       "      <td>No</td>\n",
       "      <td>Yes</td>\n",
       "      <td>Low</td>\n",
       "      <td>Mid</td>\n",
       "      <td>Wifi</td>\n",
       "      <td>4G</td>\n",
       "      <td>1-3</td>\n",
       "      <td>No</td>\n",
       "      <td>Mobile</td>\n",
       "      <td>Moderate</td>\n",
       "    </tr>\n",
       "    <tr>\n",
       "      <th>3</th>\n",
       "      <td>Girl</td>\n",
       "      <td>11-15</td>\n",
       "      <td>School</td>\n",
       "      <td>Non Government</td>\n",
       "      <td>No</td>\n",
       "      <td>Yes</td>\n",
       "      <td>Low</td>\n",
       "      <td>Mid</td>\n",
       "      <td>Mobile Data</td>\n",
       "      <td>4G</td>\n",
       "      <td>1-3</td>\n",
       "      <td>No</td>\n",
       "      <td>Mobile</td>\n",
       "      <td>Moderate</td>\n",
       "    </tr>\n",
       "    <tr>\n",
       "      <th>4</th>\n",
       "      <td>Girl</td>\n",
       "      <td>16-20</td>\n",
       "      <td>School</td>\n",
       "      <td>Non Government</td>\n",
       "      <td>No</td>\n",
       "      <td>Yes</td>\n",
       "      <td>Low</td>\n",
       "      <td>Poor</td>\n",
       "      <td>Mobile Data</td>\n",
       "      <td>3G</td>\n",
       "      <td>0</td>\n",
       "      <td>No</td>\n",
       "      <td>Mobile</td>\n",
       "      <td>Low</td>\n",
       "    </tr>\n",
       "  </tbody>\n",
       "</table>\n",
       "</div>"
      ],
      "text/plain": [
       "  gender    age education_level institution_type IT_student location  \\\n",
       "0    Boy  21-25      University   Non Government         No      Yes   \n",
       "1   Girl  21-25      University   Non Government         No      Yes   \n",
       "2   Girl  16-20         College       Government         No      Yes   \n",
       "3   Girl  11-15          School   Non Government         No      Yes   \n",
       "4   Girl  16-20          School   Non Government         No      Yes   \n",
       "\n",
       "  electricity_supply financial_condition internet_type network_type  \\\n",
       "0                Low                 Mid          Wifi           4G   \n",
       "1               High                 Mid   Mobile Data           4G   \n",
       "2                Low                 Mid          Wifi           4G   \n",
       "3                Low                 Mid   Mobile Data           4G   \n",
       "4                Low                Poor   Mobile Data           3G   \n",
       "\n",
       "  class_duration learning_system  device adaptivity_level  \n",
       "0            3-6              No     Tab         Moderate  \n",
       "1            1-3             Yes  Mobile         Moderate  \n",
       "2            1-3              No  Mobile         Moderate  \n",
       "3            1-3              No  Mobile         Moderate  \n",
       "4              0              No  Mobile              Low  "
      ]
     },
     "execution_count": 72,
     "metadata": {},
     "output_type": "execute_result"
    }
   ],
   "source": [
    "data_raw.head()"
   ]
  },
  {
   "cell_type": "markdown",
   "metadata": {},
   "source": [
    "<h5 style=\"text-align:left;color:#1A5276;\">DATA CLEASING</h5>"
   ]
  },
  {
   "cell_type": "code",
   "execution_count": 73,
   "metadata": {},
   "outputs": [],
   "source": [
    "def percent_nulls(data):\n",
    " nulos=pd.DataFrame(data.isnull().sum())\n",
    " nulos['porcentaje_nulos'] =round(nulos/data.shape[0]*100,2)\n",
    " print (nulos[1:])"
   ]
  },
  {
   "cell_type": "code",
   "execution_count": 74,
   "metadata": {},
   "outputs": [
    {
     "name": "stdout",
     "output_type": "stream",
     "text": [
      "                     0  porcentaje_nulos\n",
      "age                  0               0.0\n",
      "education_level      0               0.0\n",
      "institution_type     0               0.0\n",
      "IT_student           0               0.0\n",
      "location             0               0.0\n",
      "electricity_supply   0               0.0\n",
      "financial_condition  0               0.0\n",
      "internet_type        0               0.0\n",
      "network_type         0               0.0\n",
      "class_duration       0               0.0\n",
      "learning_system      0               0.0\n",
      "device               0               0.0\n",
      "adaptivity_level     0               0.0\n"
     ]
    }
   ],
   "source": [
    "percent_nulls(data_raw)"
   ]
  },
  {
   "cell_type": "markdown",
   "metadata": {},
   "source": [
    "Well, our dataset doesn't contain null values"
   ]
  },
  {
   "cell_type": "code",
   "execution_count": 75,
   "metadata": {},
   "outputs": [
    {
     "data": {
      "text/html": [
       "<div>\n",
       "<style scoped>\n",
       "    .dataframe tbody tr th:only-of-type {\n",
       "        vertical-align: middle;\n",
       "    }\n",
       "\n",
       "    .dataframe tbody tr th {\n",
       "        vertical-align: top;\n",
       "    }\n",
       "\n",
       "    .dataframe thead th {\n",
       "        text-align: right;\n",
       "    }\n",
       "</style>\n",
       "<table border=\"1\" class=\"dataframe\">\n",
       "  <thead>\n",
       "    <tr style=\"text-align: right;\">\n",
       "      <th></th>\n",
       "      <th>adaptivity_level</th>\n",
       "      <th>percentaje</th>\n",
       "    </tr>\n",
       "  </thead>\n",
       "  <tbody>\n",
       "    <tr>\n",
       "      <th>Moderate</th>\n",
       "      <td>625</td>\n",
       "      <td>51.87</td>\n",
       "    </tr>\n",
       "    <tr>\n",
       "      <th>Low</th>\n",
       "      <td>480</td>\n",
       "      <td>39.83</td>\n",
       "    </tr>\n",
       "    <tr>\n",
       "      <th>High</th>\n",
       "      <td>100</td>\n",
       "      <td>8.30</td>\n",
       "    </tr>\n",
       "  </tbody>\n",
       "</table>\n",
       "</div>"
      ],
      "text/plain": [
       "          adaptivity_level  percentaje\n",
       "Moderate               625       51.87\n",
       "Low                    480       39.83\n",
       "High                   100        8.30"
      ]
     },
     "execution_count": 75,
     "metadata": {},
     "output_type": "execute_result"
    }
   ],
   "source": [
    "target =pd.DataFrame(data_raw['adaptivity_level'].value_counts())\n",
    "target['percentaje']=round(target/ data_raw.shape[0]*100,2)\n",
    "target[:]"
   ]
  },
  {
   "cell_type": "markdown",
   "metadata": {},
   "source": [
    "Let's examine the distribution of data in the target variable"
   ]
  },
  {
   "cell_type": "code",
   "execution_count": 76,
   "metadata": {},
   "outputs": [
    {
     "data": {
      "text/plain": [
       "Text(0.5, 1.0, 'adaptivity_level')"
      ]
     },
     "execution_count": 76,
     "metadata": {},
     "output_type": "execute_result"
    },
    {
     "data": {
      "image/png": "[encoded data removed]",
      "text/plain": [
       "<Figure size 2160x576 with 1 Axes>"
      ]
     },
     "metadata": {
      "needs_background": "light"
     },
     "output_type": "display_data"
    }
   ],
   "source": [
    "#A graphical representation\n",
    "plt.figure(figsize=(30,8))\n",
    "sns.countplot(x='adaptivity_level',data=data_raw)\n",
    "plt.xticks(rotation=90)\n",
    "plt.xlabel(\"adaptivity_level\", fontsize=18)\n",
    "plt.ylabel(\"\", fontsize=18)\n",
    "plt.title(\"adaptivity_level\", fontsize=18)"
   ]
  },
  {
   "cell_type": "markdown",
   "metadata": {},
   "source": [
    "Full categories"
   ]
  },
  {
   "cell_type": "code",
   "execution_count": 77,
   "metadata": {},
   "outputs": [
    {
     "name": "stdout",
     "output_type": "stream",
     "text": [
      "['Boy' 'Girl']\n",
      "['21-25' '16-20' '11-15' '26-30' '6-10' '1-5']\n",
      "['University' 'College' 'School']\n",
      "['Non Government' 'Government']\n",
      "['No' 'Yes']\n",
      "['Yes' 'No']\n",
      "['Low' 'High']\n",
      "['Mid' 'Poor' 'Rich']\n",
      "['Wifi' 'Mobile Data']\n",
      "['4G' '3G' '2G']\n",
      "['3-6' '1-3' '0']\n",
      "['No' 'Yes']\n",
      "['Tab' 'Mobile' 'Computer']\n",
      "['Moderate' 'Low' 'High']\n"
     ]
    }
   ],
   "source": [
    "for column in data_raw.columns:\n",
    "   #data_raw[column].unique\n",
    " print (data_raw[column].unique())"
   ]
  },
  {
   "cell_type": "markdown",
   "metadata": {},
   "source": [
    "\n",
    "Observation in the distribution of the categories"
   ]
  },
  {
   "cell_type": "code",
   "execution_count": 78,
   "metadata": {},
   "outputs": [
    {
     "data": {
      "text/html": [
       "<h1 style=\"text-align:left;color:#1A5276;\"> Pie Chart : electricity_supply</h1>"
      ],
      "text/plain": [
       "<IPython.core.display.HTML object>"
      ]
     },
     "metadata": {},
     "output_type": "display_data"
    },
    {
     "data": {
      "image/png": "[encoded data removed]",
      "text/plain": [
       "<Figure size 432x288 with 1 Axes>"
      ]
     },
     "metadata": {},
     "output_type": "display_data"
    },
    {
     "data": {
      "text/html": [
       "<h1 style=\"text-align:left;color:#1A5276;\"> Pie Chart : age</h1>"
      ],
      "text/plain": [
       "<IPython.core.display.HTML object>"
      ]
     },
     "metadata": {},
     "output_type": "display_data"
    },
    {
     "data": {
      "image/png": "[encoded data removed]",
      "text/plain": [
       "<Figure size 432x288 with 1 Axes>"
      ]
     },
     "metadata": {},
     "output_type": "display_data"
    },
    {
     "data": {
      "text/html": [
       "<h1 style=\"text-align:left;color:#1A5276;\"> Pie Chart : gender</h1>"
      ],
      "text/plain": [
       "<IPython.core.display.HTML object>"
      ]
     },
     "metadata": {},
     "output_type": "display_data"
    },
    {
     "data": {
      "image/png": "[encoded data removed]",
      "text/plain": [
       "<Figure size 432x288 with 1 Axes>"
      ]
     },
     "metadata": {},
     "output_type": "display_data"
    },
    {
     "data": {
      "text/html": [
       "<h1 style=\"text-align:left;color:#1A5276;\"> Pie Chart : education_level</h1>"
      ],
      "text/plain": [
       "<IPython.core.display.HTML object>"
      ]
     },
     "metadata": {},
     "output_type": "display_data"
    },
    {
     "data": {
      "image/png": "[encoded data removed]",
      "text/plain": [
       "<Figure size 432x288 with 1 Axes>"
      ]
     },
     "metadata": {},
     "output_type": "display_data"
    },
    {
     "data": {
      "text/html": [
       "<h1 style=\"text-align:left;color:#1A5276;\"> Pie Chart : institution_type</h1>"
      ],
      "text/plain": [
       "<IPython.core.display.HTML object>"
      ]
     },
     "metadata": {},
     "output_type": "display_data"
    },
    {
     "data": {
      "image/png": "[encoded data removed]",
      "text/plain": [
       "<Figure size 432x288 with 1 Axes>"
      ]
     },
     "metadata": {},
     "output_type": "display_data"
    },
    {
     "data": {
      "text/html": [
       "<h1 style=\"text-align:left;color:#1A5276;\"> Pie Chart : financial_condition</h1>"
      ],
      "text/plain": [
       "<IPython.core.display.HTML object>"
      ]
     },
     "metadata": {},
     "output_type": "display_data"
    },
    {
     "data": {
      "image/png": "[encoded data removed]",
      "text/plain": [
       "<Figure size 432x288 with 1 Axes>"
      ]
     },
     "metadata": {},
     "output_type": "display_data"
    },
    {
     "data": {
      "text/html": [
       "<h1 style=\"text-align:left;color:#1A5276;\"> Pie Chart : location</h1>"
      ],
      "text/plain": [
       "<IPython.core.display.HTML object>"
      ]
     },
     "metadata": {},
     "output_type": "display_data"
    },
    {
     "data": {
      "image/png": "[encoded data removed]",
      "text/plain": [
       "<Figure size 432x288 with 1 Axes>"
      ]
     },
     "metadata": {},
     "output_type": "display_data"
    },
    {
     "data": {
      "text/html": [
       "<h1 style=\"text-align:left;color:#1A5276;\"> Pie Chart : class_duration</h1>"
      ],
      "text/plain": [
       "<IPython.core.display.HTML object>"
      ]
     },
     "metadata": {},
     "output_type": "display_data"
    },
    {
     "data": {
      "image/png": "[encoded data removed]",
      "text/plain": [
       "<Figure size 432x288 with 1 Axes>"
      ]
     },
     "metadata": {},
     "output_type": "display_data"
    }
   ],
   "source": [
    "def grafics(col):\n",
    "    for cat in columns:\n",
    "        titulocat=f' Pie Chart : {cat}'\n",
    "        titulo=HTML('<h1 style=\"text-align:left;color:#1A5276;\">'+ titulocat +'</h1>')\n",
    "        display(titulo)\n",
    "        y=data_raw[cat].value_counts() \n",
    "        valores = y[:5].values.tolist()\n",
    "        labels=y[:5].index.tolist()\n",
    "        plt.pie(valores,labels=labels)\n",
    "        fig=plt.show()\n",
    "    \n",
    "    \n",
    "columns=['electricity_supply','age','gender','education_level','institution_type','financial_condition','location','class_duration',]   \n",
    "grafics(columns)"
   ]
  },
  {
   "cell_type": "markdown",
   "metadata": {},
   "source": [
    "Abstract of features"
   ]
  },
  {
   "cell_type": "code",
   "execution_count": 79,
   "metadata": {},
   "outputs": [
    {
     "data": {
      "image/png": "[encoded data removed]",
      "text/plain": [
       "<Figure size 1080x1800 with 14 Axes>"
      ]
     },
     "metadata": {
      "needs_background": "light"
     },
     "output_type": "display_data"
    }
   ],
   "source": [
    "i = 1\n",
    "plt.figure(figsize = (15,25))\n",
    "for feature in data_raw:\n",
    "    plt.subplot(6,3,i)\n",
    "    sns.countplot(x = feature ,  data = data_raw)\n",
    "    i +=1"
   ]
  },
  {
   "cell_type": "code",
   "execution_count": 80,
   "metadata": {},
   "outputs": [
    {
     "data": {
      "image/png": "[encoded data removed]",
      "text/plain": [
       "<Figure size 1080x1800 with 14 Axes>"
      ]
     },
     "metadata": {
      "needs_background": "light"
     },
     "output_type": "display_data"
    }
   ],
   "source": [
    "i = 1\n",
    "plt.figure(figsize = (15,25))\n",
    "for feature in data_raw:\n",
    "    plt.subplot(6,3,i)\n",
    "    sns.countplot(x = feature , hue = 'adaptivity_level', data = data_raw)\n",
    "    i +=1"
   ]
  },
  {
   "cell_type": "markdown",
   "metadata": {},
   "source": [
    "**Data Analysis**"
   ]
  },
  {
   "cell_type": "markdown",
   "metadata": {},
   "source": [
    "Gender: Male students shows a bit of higher adaptability than Females\n"
   ]
  },
  {
   "cell_type": "markdown",
   "metadata": {},
   "source": [
    " Self SLM Platforms: Institution that have one shows mayor adaptability"
   ]
  },
  {
   "cell_type": "markdown",
   "metadata": {},
   "source": [
    "Also Location, IT_student, Institution type, finantial condition, class duration, Self SLM Plataform, device impact, are variables that show an impact on adaptability level to e-learning education"
   ]
  },
  {
   "cell_type": "markdown",
   "metadata": {},
   "source": [
    "Data is converted to dummies"
   ]
  },
  {
   "cell_type": "code",
   "execution_count": 81,
   "metadata": {},
   "outputs": [
    {
     "data": {
      "text/html": [
       "<div>\n",
       "<style scoped>\n",
       "    .dataframe tbody tr th:only-of-type {\n",
       "        vertical-align: middle;\n",
       "    }\n",
       "\n",
       "    .dataframe tbody tr th {\n",
       "        vertical-align: top;\n",
       "    }\n",
       "\n",
       "    .dataframe thead th {\n",
       "        text-align: right;\n",
       "    }\n",
       "</style>\n",
       "<table border=\"1\" class=\"dataframe\">\n",
       "  <thead>\n",
       "    <tr style=\"text-align: right;\">\n",
       "      <th></th>\n",
       "      <th>gender_Girl</th>\n",
       "      <th>age_11-15</th>\n",
       "      <th>age_16-20</th>\n",
       "      <th>age_21-25</th>\n",
       "      <th>age_26-30</th>\n",
       "      <th>age_6-10</th>\n",
       "      <th>education_level_School</th>\n",
       "      <th>education_level_University</th>\n",
       "      <th>institution_type_Non Government</th>\n",
       "      <th>IT_student_Yes</th>\n",
       "      <th>...</th>\n",
       "      <th>internet_type_Wifi</th>\n",
       "      <th>network_type_3G</th>\n",
       "      <th>network_type_4G</th>\n",
       "      <th>class_duration_1-3</th>\n",
       "      <th>class_duration_3-6</th>\n",
       "      <th>learning_system_Yes</th>\n",
       "      <th>device_Mobile</th>\n",
       "      <th>device_Tab</th>\n",
       "      <th>adaptivity_level_Low</th>\n",
       "      <th>adaptivity_level_Moderate</th>\n",
       "    </tr>\n",
       "  </thead>\n",
       "  <tbody>\n",
       "    <tr>\n",
       "      <th>0</th>\n",
       "      <td>0</td>\n",
       "      <td>0</td>\n",
       "      <td>0</td>\n",
       "      <td>1</td>\n",
       "      <td>0</td>\n",
       "      <td>0</td>\n",
       "      <td>0</td>\n",
       "      <td>1</td>\n",
       "      <td>1</td>\n",
       "      <td>0</td>\n",
       "      <td>...</td>\n",
       "      <td>1</td>\n",
       "      <td>0</td>\n",
       "      <td>1</td>\n",
       "      <td>0</td>\n",
       "      <td>1</td>\n",
       "      <td>0</td>\n",
       "      <td>0</td>\n",
       "      <td>1</td>\n",
       "      <td>0</td>\n",
       "      <td>1</td>\n",
       "    </tr>\n",
       "    <tr>\n",
       "      <th>1</th>\n",
       "      <td>1</td>\n",
       "      <td>0</td>\n",
       "      <td>0</td>\n",
       "      <td>1</td>\n",
       "      <td>0</td>\n",
       "      <td>0</td>\n",
       "      <td>0</td>\n",
       "      <td>1</td>\n",
       "      <td>1</td>\n",
       "      <td>0</td>\n",
       "      <td>...</td>\n",
       "      <td>0</td>\n",
       "      <td>0</td>\n",
       "      <td>1</td>\n",
       "      <td>1</td>\n",
       "      <td>0</td>\n",
       "      <td>1</td>\n",
       "      <td>1</td>\n",
       "      <td>0</td>\n",
       "      <td>0</td>\n",
       "      <td>1</td>\n",
       "    </tr>\n",
       "    <tr>\n",
       "      <th>2</th>\n",
       "      <td>1</td>\n",
       "      <td>0</td>\n",
       "      <td>1</td>\n",
       "      <td>0</td>\n",
       "      <td>0</td>\n",
       "      <td>0</td>\n",
       "      <td>0</td>\n",
       "      <td>0</td>\n",
       "      <td>0</td>\n",
       "      <td>0</td>\n",
       "      <td>...</td>\n",
       "      <td>1</td>\n",
       "      <td>0</td>\n",
       "      <td>1</td>\n",
       "      <td>1</td>\n",
       "      <td>0</td>\n",
       "      <td>0</td>\n",
       "      <td>1</td>\n",
       "      <td>0</td>\n",
       "      <td>0</td>\n",
       "      <td>1</td>\n",
       "    </tr>\n",
       "    <tr>\n",
       "      <th>3</th>\n",
       "      <td>1</td>\n",
       "      <td>1</td>\n",
       "      <td>0</td>\n",
       "      <td>0</td>\n",
       "      <td>0</td>\n",
       "      <td>0</td>\n",
       "      <td>1</td>\n",
       "      <td>0</td>\n",
       "      <td>1</td>\n",
       "      <td>0</td>\n",
       "      <td>...</td>\n",
       "      <td>0</td>\n",
       "      <td>0</td>\n",
       "      <td>1</td>\n",
       "      <td>1</td>\n",
       "      <td>0</td>\n",
       "      <td>0</td>\n",
       "      <td>1</td>\n",
       "      <td>0</td>\n",
       "      <td>0</td>\n",
       "      <td>1</td>\n",
       "    </tr>\n",
       "    <tr>\n",
       "      <th>4</th>\n",
       "      <td>1</td>\n",
       "      <td>0</td>\n",
       "      <td>1</td>\n",
       "      <td>0</td>\n",
       "      <td>0</td>\n",
       "      <td>0</td>\n",
       "      <td>1</td>\n",
       "      <td>0</td>\n",
       "      <td>1</td>\n",
       "      <td>0</td>\n",
       "      <td>...</td>\n",
       "      <td>0</td>\n",
       "      <td>1</td>\n",
       "      <td>0</td>\n",
       "      <td>0</td>\n",
       "      <td>0</td>\n",
       "      <td>0</td>\n",
       "      <td>1</td>\n",
       "      <td>0</td>\n",
       "      <td>1</td>\n",
       "      <td>0</td>\n",
       "    </tr>\n",
       "    <tr>\n",
       "      <th>5</th>\n",
       "      <td>0</td>\n",
       "      <td>1</td>\n",
       "      <td>0</td>\n",
       "      <td>0</td>\n",
       "      <td>0</td>\n",
       "      <td>0</td>\n",
       "      <td>1</td>\n",
       "      <td>0</td>\n",
       "      <td>1</td>\n",
       "      <td>0</td>\n",
       "      <td>...</td>\n",
       "      <td>0</td>\n",
       "      <td>1</td>\n",
       "      <td>0</td>\n",
       "      <td>1</td>\n",
       "      <td>0</td>\n",
       "      <td>0</td>\n",
       "      <td>1</td>\n",
       "      <td>0</td>\n",
       "      <td>1</td>\n",
       "      <td>0</td>\n",
       "    </tr>\n",
       "    <tr>\n",
       "      <th>6</th>\n",
       "      <td>0</td>\n",
       "      <td>1</td>\n",
       "      <td>0</td>\n",
       "      <td>0</td>\n",
       "      <td>0</td>\n",
       "      <td>0</td>\n",
       "      <td>1</td>\n",
       "      <td>0</td>\n",
       "      <td>1</td>\n",
       "      <td>0</td>\n",
       "      <td>...</td>\n",
       "      <td>1</td>\n",
       "      <td>0</td>\n",
       "      <td>1</td>\n",
       "      <td>0</td>\n",
       "      <td>0</td>\n",
       "      <td>0</td>\n",
       "      <td>1</td>\n",
       "      <td>0</td>\n",
       "      <td>1</td>\n",
       "      <td>0</td>\n",
       "    </tr>\n",
       "    <tr>\n",
       "      <th>7</th>\n",
       "      <td>0</td>\n",
       "      <td>1</td>\n",
       "      <td>0</td>\n",
       "      <td>0</td>\n",
       "      <td>0</td>\n",
       "      <td>0</td>\n",
       "      <td>1</td>\n",
       "      <td>0</td>\n",
       "      <td>1</td>\n",
       "      <td>0</td>\n",
       "      <td>...</td>\n",
       "      <td>1</td>\n",
       "      <td>0</td>\n",
       "      <td>1</td>\n",
       "      <td>1</td>\n",
       "      <td>0</td>\n",
       "      <td>0</td>\n",
       "      <td>1</td>\n",
       "      <td>0</td>\n",
       "      <td>0</td>\n",
       "      <td>1</td>\n",
       "    </tr>\n",
       "    <tr>\n",
       "      <th>8</th>\n",
       "      <td>0</td>\n",
       "      <td>0</td>\n",
       "      <td>1</td>\n",
       "      <td>0</td>\n",
       "      <td>0</td>\n",
       "      <td>0</td>\n",
       "      <td>0</td>\n",
       "      <td>0</td>\n",
       "      <td>0</td>\n",
       "      <td>0</td>\n",
       "      <td>...</td>\n",
       "      <td>1</td>\n",
       "      <td>0</td>\n",
       "      <td>1</td>\n",
       "      <td>1</td>\n",
       "      <td>0</td>\n",
       "      <td>0</td>\n",
       "      <td>1</td>\n",
       "      <td>0</td>\n",
       "      <td>1</td>\n",
       "      <td>0</td>\n",
       "    </tr>\n",
       "    <tr>\n",
       "      <th>9</th>\n",
       "      <td>0</td>\n",
       "      <td>1</td>\n",
       "      <td>0</td>\n",
       "      <td>0</td>\n",
       "      <td>0</td>\n",
       "      <td>0</td>\n",
       "      <td>1</td>\n",
       "      <td>0</td>\n",
       "      <td>1</td>\n",
       "      <td>0</td>\n",
       "      <td>...</td>\n",
       "      <td>0</td>\n",
       "      <td>1</td>\n",
       "      <td>0</td>\n",
       "      <td>1</td>\n",
       "      <td>0</td>\n",
       "      <td>0</td>\n",
       "      <td>1</td>\n",
       "      <td>0</td>\n",
       "      <td>0</td>\n",
       "      <td>1</td>\n",
       "    </tr>\n",
       "  </tbody>\n",
       "</table>\n",
       "<p>10 rows × 24 columns</p>\n",
       "</div>"
      ],
      "text/plain": [
       "   gender_Girl  age_11-15  age_16-20  age_21-25  age_26-30  age_6-10  \\\n",
       "0            0          0          0          1          0         0   \n",
       "1            1          0          0          1          0         0   \n",
       "2            1          0          1          0          0         0   \n",
       "3            1          1          0          0          0         0   \n",
       "4            1          0          1          0          0         0   \n",
       "5            0          1          0          0          0         0   \n",
       "6            0          1          0          0          0         0   \n",
       "7            0          1          0          0          0         0   \n",
       "8            0          0          1          0          0         0   \n",
       "9            0          1          0          0          0         0   \n",
       "\n",
       "   education_level_School  education_level_University  \\\n",
       "0                       0                           1   \n",
       "1                       0                           1   \n",
       "2                       0                           0   \n",
       "3                       1                           0   \n",
       "4                       1                           0   \n",
       "5                       1                           0   \n",
       "6                       1                           0   \n",
       "7                       1                           0   \n",
       "8                       0                           0   \n",
       "9                       1                           0   \n",
       "\n",
       "   institution_type_Non Government  IT_student_Yes  ...  internet_type_Wifi  \\\n",
       "0                                1               0  ...                   1   \n",
       "1                                1               0  ...                   0   \n",
       "2                                0               0  ...                   1   \n",
       "3                                1               0  ...                   0   \n",
       "4                                1               0  ...                   0   \n",
       "5                                1               0  ...                   0   \n",
       "6                                1               0  ...                   1   \n",
       "7                                1               0  ...                   1   \n",
       "8                                0               0  ...                   1   \n",
       "9                                1               0  ...                   0   \n",
       "\n",
       "   network_type_3G  network_type_4G  class_duration_1-3  class_duration_3-6  \\\n",
       "0                0                1                   0                   1   \n",
       "1                0                1                   1                   0   \n",
       "2                0                1                   1                   0   \n",
       "3                0                1                   1                   0   \n",
       "4                1                0                   0                   0   \n",
       "5                1                0                   1                   0   \n",
       "6                0                1                   0                   0   \n",
       "7                0                1                   1                   0   \n",
       "8                0                1                   1                   0   \n",
       "9                1                0                   1                   0   \n",
       "\n",
       "   learning_system_Yes  device_Mobile  device_Tab  adaptivity_level_Low  \\\n",
       "0                    0              0           1                     0   \n",
       "1                    1              1           0                     0   \n",
       "2                    0              1           0                     0   \n",
       "3                    0              1           0                     0   \n",
       "4                    0              1           0                     1   \n",
       "5                    0              1           0                     1   \n",
       "6                    0              1           0                     1   \n",
       "7                    0              1           0                     0   \n",
       "8                    0              1           0                     1   \n",
       "9                    0              1           0                     0   \n",
       "\n",
       "   adaptivity_level_Moderate  \n",
       "0                          1  \n",
       "1                          1  \n",
       "2                          1  \n",
       "3                          1  \n",
       "4                          0  \n",
       "5                          0  \n",
       "6                          0  \n",
       "7                          1  \n",
       "8                          0  \n",
       "9                          1  \n",
       "\n",
       "[10 rows x 24 columns]"
      ]
     },
     "execution_count": 81,
     "metadata": {},
     "output_type": "execute_result"
    }
   ],
   "source": [
    "columns=['gender', 'age', 'education_level', 'institution_type',\n",
    "       'IT_student', 'location', 'electricity_supply', 'financial_condition',\n",
    "       'internet_type', 'network_type', 'class_duration', 'learning_system',\n",
    "       'device','adaptivity_level']#menos , 'adaptivity_level'\n",
    "#columns=data_raw.columns\n",
    "data=pd.get_dummies(data_raw, columns=columns,drop_first=True)\n",
    "data.head(10)"
   ]
  },
  {
   "cell_type": "markdown",
   "metadata": {},
   "source": [
    "**Porcentajes de valores de la variable TARGET**"
   ]
  },
  {
   "cell_type": "code",
   "execution_count": 82,
   "metadata": {},
   "outputs": [
    {
     "data": {
      "text/html": [
       "<div>\n",
       "<style scoped>\n",
       "    .dataframe tbody tr th:only-of-type {\n",
       "        vertical-align: middle;\n",
       "    }\n",
       "\n",
       "    .dataframe tbody tr th {\n",
       "        vertical-align: top;\n",
       "    }\n",
       "\n",
       "    .dataframe thead th {\n",
       "        text-align: right;\n",
       "    }\n",
       "</style>\n",
       "<table border=\"1\" class=\"dataframe\">\n",
       "  <thead>\n",
       "    <tr style=\"text-align: right;\">\n",
       "      <th></th>\n",
       "      <th>adaptivity_level</th>\n",
       "      <th>porcentaje</th>\n",
       "    </tr>\n",
       "  </thead>\n",
       "  <tbody>\n",
       "    <tr>\n",
       "      <th>Moderate</th>\n",
       "      <td>625</td>\n",
       "      <td>51.87</td>\n",
       "    </tr>\n",
       "    <tr>\n",
       "      <th>Low</th>\n",
       "      <td>480</td>\n",
       "      <td>39.83</td>\n",
       "    </tr>\n",
       "    <tr>\n",
       "      <th>High</th>\n",
       "      <td>100</td>\n",
       "      <td>8.30</td>\n",
       "    </tr>\n",
       "  </tbody>\n",
       "</table>\n",
       "</div>"
      ],
      "text/plain": [
       "          adaptivity_level  porcentaje\n",
       "Moderate               625       51.87\n",
       "Low                    480       39.83\n",
       "High                   100        8.30"
      ]
     },
     "execution_count": 82,
     "metadata": {},
     "output_type": "execute_result"
    }
   ],
   "source": [
    "target =pd.DataFrame(data_raw['adaptivity_level'].value_counts())\n",
    "target['porcentaje']=round(target/ data_raw.shape[0]*100,2)\n",
    "target[:]"
   ]
  },
  {
   "cell_type": "markdown",
   "metadata": {},
   "source": [
    "<h4><span style=\"color:#1A5276\"> Ho </span> = 92 / 5.000\n",
    "Resultados de traducción\n",
    "The probability that a student falls into the Moderate adaptability category is <span style=\"color:#1A5276\"> = 0,5186 </span></h4>\n",
    "<h4><span style=\"color:#1A5276\"> H1 </span>= 92 / 5.000\n",
    "Resultados de traducción\n",
    "The probability that a student falls into the Moderate adaptability category is  <span style=\"color:#1A5276\"> > 0,5186 </span></h4>"
   ]
  },
  {
   "cell_type": "markdown",
   "metadata": {},
   "source": [
    "Let's define the  TARGET y FEATURES"
   ]
  },
  {
   "cell_type": "code",
   "execution_count": 83,
   "metadata": {},
   "outputs": [],
   "source": [
    "X=data.drop(['adaptivity_level_Moderate'],axis=1)#Features \n",
    "y=data['adaptivity_level_Moderate'] #target"
   ]
  },
  {
   "cell_type": "code",
   "execution_count": 84,
   "metadata": {},
   "outputs": [
    {
     "name": "stdout",
     "output_type": "stream",
     "text": [
      "(903, 23) (903,) (302, 23) (302,)\n"
     ]
    }
   ],
   "source": [
    "#Partition the data into train and test\n",
    "X_train, X_test, y_train, y_test = train_test_split(X,y,test_size=0.25, stratify=y)\n",
    "print(X_train.shape, y_train.shape, X_test.shape, y_test.shape)"
   ]
  },
  {
   "cell_type": "code",
   "execution_count": 85,
   "metadata": {},
   "outputs": [
    {
     "data": {
      "text/plain": [
       "(0.5182724252491694, 0.5198675496688742)"
      ]
     },
     "execution_count": 85,
     "metadata": {},
     "output_type": "execute_result"
    }
   ],
   "source": [
    "# Make sure the proportions are correct \n",
    "y_train.mean(), y_test.mean()"
   ]
  },
  {
   "cell_type": "code",
   "execution_count": 86,
   "metadata": {},
   "outputs": [
    {
     "data": {
      "text/html": [
       "<div>\n",
       "<style scoped>\n",
       "    .dataframe tbody tr th:only-of-type {\n",
       "        vertical-align: middle;\n",
       "    }\n",
       "\n",
       "    .dataframe tbody tr th {\n",
       "        vertical-align: top;\n",
       "    }\n",
       "\n",
       "    .dataframe thead th {\n",
       "        text-align: right;\n",
       "    }\n",
       "</style>\n",
       "<table border=\"1\" class=\"dataframe\">\n",
       "  <thead>\n",
       "    <tr style=\"text-align: right;\">\n",
       "      <th></th>\n",
       "      <th>gender_Girl</th>\n",
       "      <th>age_11-15</th>\n",
       "      <th>age_16-20</th>\n",
       "      <th>age_21-25</th>\n",
       "      <th>age_26-30</th>\n",
       "      <th>age_6-10</th>\n",
       "      <th>education_level_School</th>\n",
       "      <th>education_level_University</th>\n",
       "      <th>institution_type_Non Government</th>\n",
       "      <th>IT_student_Yes</th>\n",
       "      <th>...</th>\n",
       "      <th>internet_type_Wifi</th>\n",
       "      <th>network_type_3G</th>\n",
       "      <th>network_type_4G</th>\n",
       "      <th>class_duration_1-3</th>\n",
       "      <th>class_duration_3-6</th>\n",
       "      <th>learning_system_Yes</th>\n",
       "      <th>device_Mobile</th>\n",
       "      <th>device_Tab</th>\n",
       "      <th>adaptivity_level_Low</th>\n",
       "      <th>adaptivity_level_Moderate</th>\n",
       "    </tr>\n",
       "  </thead>\n",
       "  <tbody>\n",
       "    <tr>\n",
       "      <th>0</th>\n",
       "      <td>0</td>\n",
       "      <td>0</td>\n",
       "      <td>0</td>\n",
       "      <td>1</td>\n",
       "      <td>0</td>\n",
       "      <td>0</td>\n",
       "      <td>0</td>\n",
       "      <td>1</td>\n",
       "      <td>1</td>\n",
       "      <td>0</td>\n",
       "      <td>...</td>\n",
       "      <td>1</td>\n",
       "      <td>0</td>\n",
       "      <td>1</td>\n",
       "      <td>0</td>\n",
       "      <td>1</td>\n",
       "      <td>0</td>\n",
       "      <td>0</td>\n",
       "      <td>1</td>\n",
       "      <td>0</td>\n",
       "      <td>1</td>\n",
       "    </tr>\n",
       "    <tr>\n",
       "      <th>1</th>\n",
       "      <td>1</td>\n",
       "      <td>0</td>\n",
       "      <td>0</td>\n",
       "      <td>1</td>\n",
       "      <td>0</td>\n",
       "      <td>0</td>\n",
       "      <td>0</td>\n",
       "      <td>1</td>\n",
       "      <td>1</td>\n",
       "      <td>0</td>\n",
       "      <td>...</td>\n",
       "      <td>0</td>\n",
       "      <td>0</td>\n",
       "      <td>1</td>\n",
       "      <td>1</td>\n",
       "      <td>0</td>\n",
       "      <td>1</td>\n",
       "      <td>1</td>\n",
       "      <td>0</td>\n",
       "      <td>0</td>\n",
       "      <td>1</td>\n",
       "    </tr>\n",
       "    <tr>\n",
       "      <th>2</th>\n",
       "      <td>1</td>\n",
       "      <td>0</td>\n",
       "      <td>1</td>\n",
       "      <td>0</td>\n",
       "      <td>0</td>\n",
       "      <td>0</td>\n",
       "      <td>0</td>\n",
       "      <td>0</td>\n",
       "      <td>0</td>\n",
       "      <td>0</td>\n",
       "      <td>...</td>\n",
       "      <td>1</td>\n",
       "      <td>0</td>\n",
       "      <td>1</td>\n",
       "      <td>1</td>\n",
       "      <td>0</td>\n",
       "      <td>0</td>\n",
       "      <td>1</td>\n",
       "      <td>0</td>\n",
       "      <td>0</td>\n",
       "      <td>1</td>\n",
       "    </tr>\n",
       "  </tbody>\n",
       "</table>\n",
       "<p>3 rows × 24 columns</p>\n",
       "</div>"
      ],
      "text/plain": [
       "   gender_Girl  age_11-15  age_16-20  age_21-25  age_26-30  age_6-10  \\\n",
       "0            0          0          0          1          0         0   \n",
       "1            1          0          0          1          0         0   \n",
       "2            1          0          1          0          0         0   \n",
       "\n",
       "   education_level_School  education_level_University  \\\n",
       "0                       0                           1   \n",
       "1                       0                           1   \n",
       "2                       0                           0   \n",
       "\n",
       "   institution_type_Non Government  IT_student_Yes  ...  internet_type_Wifi  \\\n",
       "0                                1               0  ...                   1   \n",
       "1                                1               0  ...                   0   \n",
       "2                                0               0  ...                   1   \n",
       "\n",
       "   network_type_3G  network_type_4G  class_duration_1-3  class_duration_3-6  \\\n",
       "0                0                1                   0                   1   \n",
       "1                0                1                   1                   0   \n",
       "2                0                1                   1                   0   \n",
       "\n",
       "   learning_system_Yes  device_Mobile  device_Tab  adaptivity_level_Low  \\\n",
       "0                    0              0           1                     0   \n",
       "1                    1              1           0                     0   \n",
       "2                    0              1           0                     0   \n",
       "\n",
       "   adaptivity_level_Moderate  \n",
       "0                          1  \n",
       "1                          1  \n",
       "2                          1  \n",
       "\n",
       "[3 rows x 24 columns]"
      ]
     },
     "execution_count": 86,
     "metadata": {},
     "output_type": "execute_result"
    }
   ],
   "source": [
    "data.head(3)"
   ]
  },
  {
   "cell_type": "code",
   "execution_count": 87,
   "metadata": {},
   "outputs": [],
   "source": [
    "max_abs_scaler = preprocessing.MaxAbsScaler()"
   ]
  },
  {
   "cell_type": "markdown",
   "metadata": {},
   "source": [
    "<h1 style=\"text-align:center;color:#1A5276;\"> Implementación de Pipeline </h1>"
   ]
  },
  {
   "cell_type": "markdown",
   "metadata": {},
   "source": [
    "<h5 style=\"text-align:left;color:#1A5276;\">PIPELINE implementation</h5> "
   ]
  },
  {
   "cell_type": "markdown",
   "metadata": {},
   "source": [
    "Build the list of steps that are executed in sequence. We will instantiate different models with different scaling mode"
   ]
  },
  {
   "cell_type": "markdown",
   "metadata": {},
   "source": [
    "<h5 style=\"text-align:left;color:#1A5276;\">Logistic Regression</h5> "
   ]
  },
  {
   "cell_type": "code",
   "execution_count": 88,
   "metadata": {},
   "outputs": [],
   "source": [
    "pipeline_lr=Pipeline([('scalar_1',StandardScaler()),\n",
    "                     ('pca1',PCA(n_components=2)),\n",
    "                     ('lr_classifier',LogisticRegression(random_state=0))])\n",
    "\n",
    "                     "
   ]
  },
  {
   "cell_type": "markdown",
   "metadata": {},
   "source": [
    "<h5 style=\"text-align:left;color:#1A5276;\">Logistic Regression sin PCA</h5> "
   ]
  },
  {
   "cell_type": "code",
   "execution_count": 89,
   "metadata": {},
   "outputs": [],
   "source": [
    "lr_SinPCA=Pipeline([('scalar_2',preprocessing.MaxAbsScaler()),\n",
    "                     #('pca5',PCA(n_components=2)),\n",
    "                     ('lr_classifier',LogisticRegression(random_state=0))])"
   ]
  },
  {
   "cell_type": "markdown",
   "metadata": {},
   "source": [
    "<h5 style=\"text-align:left;color:#1A5276;\">DecisionTreeClassifier</h5> "
   ]
  },
  {
   "cell_type": "code",
   "execution_count": 90,
   "metadata": {},
   "outputs": [],
   "source": [
    "pipeline_dt=Pipeline([('scalar_3',StandardScaler()),\n",
    "                     ('pca2',PCA(n_components=2)),\n",
    "                     ('dt_classifier',DecisionTreeClassifier())])"
   ]
  },
  {
   "cell_type": "markdown",
   "metadata": {},
   "source": [
    "<h5 style=\"text-align:left;color:#1A5276;\">RandomForestClassifier</h5>"
   ]
  },
  {
   "cell_type": "code",
   "execution_count": 91,
   "metadata": {},
   "outputs": [],
   "source": [
    "pipeline_randomforest=Pipeline([('scalar_4',StandardScaler()),\n",
    "                     ('pca3',PCA(n_components=2)),\n",
    "                     ('rf_classifier',RandomForestClassifier())])"
   ]
  },
  {
   "cell_type": "markdown",
   "metadata": {},
   "source": [
    "<h5 style=\"text-align:left;color:#1A5276;\">Random Forest con MaxAbsScaler</h5>"
   ]
  },
  {
   "cell_type": "code",
   "execution_count": 92,
   "metadata": {},
   "outputs": [],
   "source": [
    "pipeline_randomforest_2=Pipeline([('scalar_5',preprocessing.MaxAbsScaler()),\n",
    "                     ('pca4',PCA(n_components=2)),\n",
    "                     ('rf2_classifier',RandomForestClassifier())])"
   ]
  },
  {
   "cell_type": "markdown",
   "metadata": {},
   "source": [
    "<h5 style=\"text-align:left;color:#1A5276;\">Random Forest con MaxAbsScaleer sin PCA</h5>"
   ]
  },
  {
   "cell_type": "code",
   "execution_count": 93,
   "metadata": {},
   "outputs": [],
   "source": [
    "pipeline_randomforest_3=Pipeline([('scalar_6',preprocessing.MaxAbsScaler()),\n",
    "                     #('pca4',PCA(n_components=2)),\n",
    "                     ('rf2_classifier_1',RandomForestClassifier())])"
   ]
  },
  {
   "cell_type": "markdown",
   "metadata": {},
   "source": [
    "<h5 style=\"text-align:left;color:#1A5276;\">KNN KNeihborsClassifier</h5>"
   ]
  },
  {
   "cell_type": "code",
   "execution_count": 94,
   "metadata": {},
   "outputs": [],
   "source": [
    "pipeline_knn=Pipeline([('scalar_7',preprocessing.MaxAbsScaler()),\n",
    "                     #('pca5',PCA(n_components=2)),\n",
    "                     ('knn_classifier',knn(n_neighbors=6))])\n"
   ]
  },
  {
   "cell_type": "markdown",
   "metadata": {},
   "source": [
    "<h5 style=\"text-align:left;color:#1A5276;\">AdaBoostClassifier</h5>"
   ]
  },
  {
   "cell_type": "code",
   "execution_count": 95,
   "metadata": {},
   "outputs": [],
   "source": [
    "pipeline_ada=Pipeline([('scalar_8',preprocessing.MaxAbsScaler()),\n",
    "                     #('pca5',PCA(n_components=2)),\n",
    "                     ('ada_classifier',AdaBoostClassifier(n_estimators=50,learning_rate=1))])\n",
    "\n",
    "\n",
    "                  "
   ]
  },
  {
   "cell_type": "markdown",
   "metadata": {},
   "source": [
    "<h5 style=\"text-align:left;color:#1A5276;\">GaussianNB</h5>"
   ]
  },
  {
   "cell_type": "code",
   "execution_count": 96,
   "metadata": {},
   "outputs": [],
   "source": [
    "pipeline_GB=Pipeline([('scalar_9',preprocessing.MaxAbsScaler()),\n",
    "                     #('pca5',PCA(n_components=2)),\n",
    "                     ('GB_classifier',GaussianNB())])\n",
    "\n",
    "             "
   ]
  },
  {
   "cell_type": "markdown",
   "metadata": {},
   "source": [
    "<h5 style=\"text-align:left;color:#1A5276;\">DecisionTreeRegressor</h5>"
   ]
  },
  {
   "cell_type": "code",
   "execution_count": 97,
   "metadata": {},
   "outputs": [],
   "source": [
    "pipeline_dtr=Pipeline([('scalar_10',preprocessing.MaxAbsScaler()),\n",
    "                     #('pca5',PCA(n_components=2)),\n",
    "                     ('DTR_classifier',DecisionTreeRegressor())])"
   ]
  },
  {
   "cell_type": "markdown",
   "metadata": {},
   "source": [
    "<h5 style=\"text-align:left;color:#1A5276;\">Instantiate `pipeline` with previously defined steps</h5>"
   ]
  },
  {
   "cell_type": "code",
   "execution_count": 98,
   "metadata": {},
   "outputs": [],
   "source": [
    "pipelines = [pipeline_lr,lr_SinPCA, pipeline_dt, pipeline_randomforest,pipeline_randomforest_3,pipeline_randomforest_2,pipeline_knn,pipeline_ada,pipeline_GB,pipeline_dtr]"
   ]
  },
  {
   "cell_type": "markdown",
   "metadata": {},
   "source": [
    "<h1 style=\"text-align:center;color:#1A5276;\">Initialize the models</h1>"
   ]
  },
  {
   "cell_type": "code",
   "execution_count": 99,
   "metadata": {},
   "outputs": [],
   "source": [
    "best_accuracy=0.0\n",
    "best_classifier=0\n",
    "best_pipeline=\"\""
   ]
  },
  {
   "cell_type": "markdown",
   "metadata": {},
   "source": [
    "<h5 style=\"text-align:left;color:#1A5276;\">\n",
    "\n",
    "We train the `pipeline` instance with the training data, using the `fit` method</h5>\n"
   ]
  },
  {
   "cell_type": "code",
   "execution_count": 100,
   "metadata": {},
   "outputs": [
    {
     "name": "stdout",
     "output_type": "stream",
     "text": [
      "PCA(n_components=2)\n",
      "LogisticRegression(random_state=0)\n",
      "PCA(n_components=2)\n",
      "PCA(n_components=2)\n",
      "RandomForestClassifier()\n",
      "PCA(n_components=2)\n",
      "KNeighborsClassifier(n_neighbors=6)\n",
      "AdaBoostClassifier(learning_rate=1)\n",
      "GaussianNB()\n",
      "DecisionTreeRegressor()\n"
     ]
    }
   ],
   "source": [
    "pipe_dict = {0: 'Logistic Regression', 1: 'Logistic Regression \tsin PCA',2: 'Decision Tree', 3: 'RandomForest_StandScaler', 4:'RandomForest_MaxScaler',5: 'RandomForest_SinPCA' ,6:'KNN', 7:'Ada', 8:'GB',9:'pipeline_dtr'}\n",
    "\n",
    "# Fit the pipelines\n",
    "for pipe in pipelines:\n",
    "\tprint(pipe[1]) ##Para ver cada uno de los clasificadores\n",
    "\tpipe.fit(X_train, y_train)\n",
    "\t"
   ]
  },
  {
   "cell_type": "markdown",
   "metadata": {},
   "source": [
    "<h5 style=\"text-align:left;color:#1A5276;\">The `score` method returns *accuracy* of the model.</h5>\n",
    "      "
   ]
  },
  {
   "cell_type": "code",
   "execution_count": 101,
   "metadata": {},
   "outputs": [
    {
     "data": {
      "text/html": [
       "<h4  style=\"text-align:left;color:#707B7C;\">Logistic Regression Test Accuracy:<span style='color:#1A5276'>  0.543046357615894 </span></h4>"
      ],
      "text/plain": [
       "<IPython.core.display.HTML object>"
      ]
     },
     "metadata": {},
     "output_type": "display_data"
    },
    {
     "data": {
      "text/html": [
       "<h4  style=\"text-align:left;color:#707B7C;\">Logistic Regression \tsin PCA Test Accuracy:<span style='color:#1A5276'>  0.9403973509933775 </span></h4>"
      ],
      "text/plain": [
       "<IPython.core.display.HTML object>"
      ]
     },
     "metadata": {},
     "output_type": "display_data"
    },
    {
     "data": {
      "text/html": [
       "<h4  style=\"text-align:left;color:#707B7C;\">Decision Tree Test Accuracy:<span style='color:#1A5276'>  0.9635761589403974 </span></h4>"
      ],
      "text/plain": [
       "<IPython.core.display.HTML object>"
      ]
     },
     "metadata": {},
     "output_type": "display_data"
    },
    {
     "data": {
      "text/html": [
       "<h4  style=\"text-align:left;color:#707B7C;\">RandomForest_StandScaler Test Accuracy:<span style='color:#1A5276'>  0.9635761589403974 </span></h4>"
      ],
      "text/plain": [
       "<IPython.core.display.HTML object>"
      ]
     },
     "metadata": {},
     "output_type": "display_data"
    },
    {
     "data": {
      "text/html": [
       "<h4  style=\"text-align:left;color:#707B7C;\">RandomForest_MaxScaler Test Accuracy:<span style='color:#1A5276'>  0.9768211920529801 </span></h4>"
      ],
      "text/plain": [
       "<IPython.core.display.HTML object>"
      ]
     },
     "metadata": {},
     "output_type": "display_data"
    },
    {
     "data": {
      "text/html": [
       "<h4  style=\"text-align:left;color:#707B7C;\">RandomForest_SinPCA Test Accuracy:<span style='color:#1A5276'>  0.9536423841059603 </span></h4>"
      ],
      "text/plain": [
       "<IPython.core.display.HTML object>"
      ]
     },
     "metadata": {},
     "output_type": "display_data"
    },
    {
     "data": {
      "text/html": [
       "<h4  style=\"text-align:left;color:#707B7C;\">KNN Test Accuracy:<span style='color:#1A5276'>  0.9337748344370861 </span></h4>"
      ],
      "text/plain": [
       "<IPython.core.display.HTML object>"
      ]
     },
     "metadata": {},
     "output_type": "display_data"
    },
    {
     "data": {
      "text/html": [
       "<h4  style=\"text-align:left;color:#707B7C;\">Ada Test Accuracy:<span style='color:#1A5276'>  0.9403973509933775 </span></h4>"
      ],
      "text/plain": [
       "<IPython.core.display.HTML object>"
      ]
     },
     "metadata": {},
     "output_type": "display_data"
    },
    {
     "data": {
      "text/html": [
       "<h4  style=\"text-align:left;color:#707B7C;\">GB Test Accuracy:<span style='color:#1A5276'>  0.9403973509933775 </span></h4>"
      ],
      "text/plain": [
       "<IPython.core.display.HTML object>"
      ]
     },
     "metadata": {},
     "output_type": "display_data"
    },
    {
     "data": {
      "text/html": [
       "<h4  style=\"text-align:left;color:#707B7C;\">pipeline_dtr Test Accuracy:<span style='color:#1A5276'>  0.9363287180015867 </span></h4>"
      ],
      "text/plain": [
       "<IPython.core.display.HTML object>"
      ]
     },
     "metadata": {},
     "output_type": "display_data"
    }
   ],
   "source": [
    "for i,model in enumerate(pipelines):   \n",
    "   presicion=HTML('<h4  style=\"text-align:left;color:#707B7C;\">'+\"{} Test Accuracy:<span style='color:#1A5276'>  {} </span>\".format(pipe_dict[i],model.score(X_test,y_test))  + '</h4>')\n",
    "   display(presicion)  \n",
    " "
   ]
  },
  {
   "cell_type": "code",
   "execution_count": 102,
   "metadata": {},
   "outputs": [
    {
     "data": {
      "text/html": [
       "<h1 style=\"text-align:left;color:#707B7C;\">Classification with the best ACCURACY :<span style=\"color:#1A5276\"> RandomForest_MaxScaler</span></h1>"
      ],
      "text/plain": [
       "<IPython.core.display.HTML object>"
      ]
     },
     "metadata": {},
     "output_type": "display_data"
    }
   ],
   "source": [
    "for i,model in enumerate(pipelines):\n",
    "    if model.score(X_test,y_test)>best_accuracy:\n",
    "        best_accuracy=model.score(X_test,y_test)\n",
    "        best_pipeline=model\n",
    "        best_classifier=i\n",
    "        \n",
    "clasificacion=HTML('<h1 style=\"text-align:left;color:#707B7C;\">'+'Classification with the best ACCURACY :<span style=\"color:#1A5276\"> {}</span>'.format(pipe_dict[best_classifier]) +'</h1>')\n",
    "display(clasificacion)\n"
   ]
  },
  {
   "cell_type": "markdown",
   "metadata": {},
   "source": [
    "<h1 style=\"text-align:center;color:#707B7C;\"> Pipelines Perform Hyperparameter Usando GridSearchCV</h1>"
   ]
  },
  {
   "cell_type": "markdown",
   "metadata": {},
   "source": [
    "**The hyperparameter grid identifies the pipeline step and the hyperparameter and the values to evaluate..**\n",
    "**Indicated with the syntax: nombre_paso__nombre_hiperparámetro.**\n"
   ]
  },
  {
   "cell_type": "markdown",
   "metadata": {},
   "source": [
    "Combine both methods by instantiating `GridSearchCV` with *\n",
    "  - <text style=\"text-align:left;color:#1A5276;\"> `pipeline`</text>\n",
    "  - <text style=\"text-align:left;color:#1A5276;\"> grid.</text>\n",
    "  - <text style=\"text-align:left;color:#1A5276;\">  cross validation.</text>\n",
    "  \n",
    "**After that we will train the model**"
   ]
  },
  {
   "cell_type": "markdown",
   "metadata": {},
   "source": [
    "<h1 style=\"text-align:center;color:#707B7C;\">Creating Pipeline</h1>\n",
    "<h1 style=\"text-align:center;color:#1A5276;\">Creation and use of algorithms and  hiperparameters</h1>"
   ]
  },
  {
   "cell_type": "code",
   "execution_count": 103,
   "metadata": {},
   "outputs": [],
   "source": [
    "pipe = Pipeline([(\"classifier\", RandomForestClassifier())])\n",
    "grid_param = [\n",
    "                {\"classifier\": [LogisticRegression()],\n",
    "                 \"classifier__penalty\": ['l2','l1'],\n",
    "                 \"classifier__C\": np.logspace(0, 4, 10)\n",
    "                 },\n",
    "                {\"classifier\": [LogisticRegression()],\n",
    "                 \"classifier__penalty\": ['l2'],\n",
    "                 \"classifier__C\": np.logspace(0, 4, 10),\n",
    "                 \"classifier__solver\":['newton-cg','saga','sag','liblinear'] ##This solvers don't allow L1 penalty\n",
    "                 },\n",
    "                {\"classifier\": [RandomForestClassifier()],\n",
    "                 \"classifier__n_estimators\": [10, 100, 1000],\n",
    "                 \"classifier__max_depth\":[5,8,15,25,30,None],\n",
    "                 \"classifier__min_samples_leaf\":[1,2,5,10,15,100],\n",
    "                 \"classifier__max_leaf_nodes\": [2, 5,10]},\n",
    "                 \n",
    "                 {\"classifier\": [RandomForestClassifier()],\n",
    "                 \"classifier__n_estimators\": [10, 100, 1000],\n",
    "                 \"classifier__max_depth\":[5,8,15,25,30,None],\n",
    "                 \"classifier__min_samples_leaf\":[1,2,5,10,15,100],\n",
    "                 \"classifier__max_leaf_nodes\": [2, 5,10]}\n",
    "                 ]\n",
    "# To get the best model\n",
    "gridsearch = GridSearchCV(pipe, grid_param, cv=5, verbose=0,n_jobs=-1) # Fit grid search\n",
    "best_model = gridsearch.fit(X_train,y_train)\n",
    "\n"
   ]
  },
  {
   "cell_type": "markdown",
   "metadata": {},
   "source": [
    "<h1 style=\"text-align:center;color:#1A5276;\">To get the best estimator</h1>"
   ]
  },
  {
   "cell_type": "code",
   "execution_count": 104,
   "metadata": {},
   "outputs": [
    {
     "name": "stdout",
     "output_type": "stream",
     "text": [
      "Pipeline(steps=[('classifier', LogisticRegression(C=7.742636826811269))])\n",
      "The mean accuracy of the model is: 0.9437086092715232\n"
     ]
    }
   ],
   "source": [
    "print(best_model.best_estimator_)\n",
    "print(\"The mean accuracy of the model is:\",best_model.score(X_test,y_test))"
   ]
  },
  {
   "cell_type": "markdown",
   "metadata": {},
   "source": [
    "<h3 style=\"text-align:left;color:#1A5276;\">The parameters of the estimators can be seen with the `get_params` method.</h3>"
   ]
  },
  {
   "cell_type": "code",
   "execution_count": 105,
   "metadata": {},
   "outputs": [
    {
     "data": {
      "text/plain": [
       "{'memory': None,\n",
       " 'steps': [('classifier', RandomForestClassifier())],\n",
       " 'verbose': False,\n",
       " 'classifier': RandomForestClassifier(),\n",
       " 'classifier__bootstrap': True,\n",
       " 'classifier__ccp_alpha': 0.0,\n",
       " 'classifier__class_weight': None,\n",
       " 'classifier__criterion': 'gini',\n",
       " 'classifier__max_depth': None,\n",
       " 'classifier__max_features': 'auto',\n",
       " 'classifier__max_leaf_nodes': None,\n",
       " 'classifier__max_samples': None,\n",
       " 'classifier__min_impurity_decrease': 0.0,\n",
       " 'classifier__min_impurity_split': None,\n",
       " 'classifier__min_samples_leaf': 1,\n",
       " 'classifier__min_samples_split': 2,\n",
       " 'classifier__min_weight_fraction_leaf': 0.0,\n",
       " 'classifier__n_estimators': 100,\n",
       " 'classifier__n_jobs': None,\n",
       " 'classifier__oob_score': False,\n",
       " 'classifier__random_state': None,\n",
       " 'classifier__verbose': 0,\n",
       " 'classifier__warm_start': False}"
      ]
     },
     "execution_count": 105,
     "metadata": {},
     "output_type": "execute_result"
    }
   ],
   "source": [
    "pipe.get_params()"
   ]
  },
  {
   "cell_type": "markdown",
   "metadata": {},
   "source": [
    "\n",
    "---\n",
    "Let's see the  **score** of the best model (`best_score_`), and the (`best_estimator_`)."
   ]
  },
  {
   "cell_type": "code",
   "execution_count": 106,
   "metadata": {},
   "outputs": [
    {
     "name": "stdout",
     "output_type": "stream",
     "text": [
      "Score:  0.9435359116022101\n"
     ]
    },
    {
     "data": {
      "text/plain": [
       "Pipeline(steps=[('classifier', LogisticRegression(C=7.742636826811269))])"
      ]
     },
     "execution_count": 106,
     "metadata": {},
     "output_type": "execute_result"
    }
   ],
   "source": [
    "print('Score: ',gridsearch.best_score_)\n",
    "gridsearch.best_estimator_"
   ]
  },
  {
   "cell_type": "markdown",
   "metadata": {},
   "source": [
    "Evaluating the performance with the test values"
   ]
  },
  {
   "cell_type": "code",
   "execution_count": 107,
   "metadata": {},
   "outputs": [
    {
     "data": {
      "text/plain": [
       "0.9437086092715232"
      ]
     },
     "execution_count": 107,
     "metadata": {},
     "output_type": "execute_result"
    }
   ],
   "source": [
    "accuracy_score(gridsearch.best_estimator_.predict(X_test),y_test)"
   ]
  },
  {
   "cell_type": "code",
   "execution_count": 108,
   "metadata": {},
   "outputs": [
    {
     "data": {
      "text/plain": [
       "<sklearn.metrics._plot.confusion_matrix.ConfusionMatrixDisplay at 0x1cd4dc41a60>"
      ]
     },
     "execution_count": 108,
     "metadata": {},
     "output_type": "execute_result"
    },
    {
     "data": {
      "image/png": "[encoded data removed]",
      "text/plain": [
       "<Figure size 432x288 with 2 Axes>"
      ]
     },
     "metadata": {
      "needs_background": "light"
     },
     "output_type": "display_data"
    }
   ],
   "source": [
    "\n",
    "plot_confusion_matrix(gridsearch,X_test,y_test)"
   ]
  },
  {
   "cell_type": "code",
   "execution_count": 109,
   "metadata": {},
   "outputs": [
    {
     "name": "stdout",
     "output_type": "stream",
     "text": [
      "              precision    recall  f1-score   support\n",
      "\n",
      "           0       0.97      0.91      0.94       145\n",
      "           1       0.92      0.97      0.95       157\n",
      "\n",
      "    accuracy                           0.94       302\n",
      "   macro avg       0.95      0.94      0.94       302\n",
      "weighted avg       0.95      0.94      0.94       302\n",
      "\n"
     ]
    }
   ],
   "source": [
    "print(classification_report( y_test,gridsearch.best_estimator_.predict(X_test)))"
   ]
  },
  {
   "cell_type": "markdown",
   "metadata": {},
   "source": [
    "<h3 style=\"text-align:left;color:#707B7C;\">Since the accuracy: <span style=\"color:#1A5276\"> 0.94 </span>  is greater than the null hypothesis, we reject the null hypothesis in favor of the alternative</h3>\n",
    " "
   ]
  },
  {
   "cell_type": "markdown",
   "metadata": {},
   "source": [
    "<h3 style=\"text-align:left;color:#1A5276;\">BONUS - MULTINOMIAL LOGISTIC REGRESSION</h3>"
   ]
  },
  {
   "cell_type": "code",
   "execution_count": 126,
   "metadata": {},
   "outputs": [
    {
     "data": {
      "image/jpeg": "[encoded data removed]",
      "text/plain": [
       "<IPython.core.display.Image object>"
      ]
     },
     "execution_count": 126,
     "metadata": {},
     "output_type": "execute_result"
    }
   ],
   "source": [
    "\n",
    "Image(filename='image.jpg')"
   ]
  },
  {
   "cell_type": "markdown",
   "metadata": {},
   "source": [
    "<h3 style=\"text-align:left;color:#1A5276;\"> data to dummies - Except the target</h3>"
   ]
  },
  {
   "cell_type": "code",
   "execution_count": 111,
   "metadata": {},
   "outputs": [],
   "source": [
    "\n",
    "data_dumies=pd.get_dummies(data_raw,columns=['gender','age', 'education_level', 'institution_type',\n",
    "       'electricity_supply', 'financial_condition', 'internet_type',\n",
    "       'network_type', 'class_duration', 'learning_system', 'device','IT_student','location'],drop_first=True)"
   ]
  },
  {
   "cell_type": "code",
   "execution_count": 112,
   "metadata": {},
   "outputs": [],
   "source": [
    "X=data_dumies.drop(['adaptivity_level'],axis=1)#Features \n",
    "y=data_dumies['adaptivity_level'] #target"
   ]
  },
  {
   "cell_type": "markdown",
   "metadata": {},
   "source": [
    "<h3 style=\"text-align:left;color:#1A5276;\">Partition the data into train and test</h3>"
   ]
  },
  {
   "cell_type": "code",
   "execution_count": 113,
   "metadata": {},
   "outputs": [
    {
     "name": "stdout",
     "output_type": "stream",
     "text": [
      "(903, 22) (903,) (302, 22) (302,)\n"
     ]
    }
   ],
   "source": [
    "X_train, X_test, y_train, y_test = train_test_split(X,y,test_size=0.25, stratify=y)\n",
    "print(X_train.shape, y_train.shape, X_test.shape, y_test.shape)"
   ]
  },
  {
   "cell_type": "code",
   "execution_count": 114,
   "metadata": {},
   "outputs": [],
   "source": [
    "scaler = StandardScaler()\n",
    "X_train = pd.DataFrame(scaler.fit_transform(X_train))\n",
    "X_test = pd.DataFrame(scaler.transform(X_test))\n",
    "\n"
   ]
  },
  {
   "cell_type": "code",
   "execution_count": 115,
   "metadata": {},
   "outputs": [],
   "source": [
    "scaler = StandardScaler()\n",
    "X_train = max_abs_scaler.fit_transform(X_train)\n",
    "X_test = max_abs_scaler.transform(X_test)"
   ]
  },
  {
   "cell_type": "code",
   "execution_count": 116,
   "metadata": {},
   "outputs": [
    {
     "data": {
      "text/plain": [
       "Moderate    468\n",
       "Low         360\n",
       "High         75\n",
       "Name: adaptivity_level, dtype: int64"
      ]
     },
     "execution_count": 116,
     "metadata": {},
     "output_type": "execute_result"
    }
   ],
   "source": [
    "y_train.value_counts()"
   ]
  },
  {
   "cell_type": "markdown",
   "metadata": {},
   "source": [
    "<h3 style=\"text-align:left;color:#1A5276;\">Definition of Multinomial Model</h3>"
   ]
  },
  {
   "cell_type": "code",
   "execution_count": 117,
   "metadata": {},
   "outputs": [
    {
     "name": "stdout",
     "output_type": "stream",
     "text": [
      "0.6887417218543046\n"
     ]
    },
    {
     "name": "stderr",
     "output_type": "stream",
     "text": [
      "c:\\Users\\Jannet\\Anaconda3\\envs\\dhdsblend2021\\lib\\site-packages\\sklearn\\linear_model\\_logistic.py:762: ConvergenceWarning: lbfgs failed to converge (status=1):\n",
      "STOP: TOTAL NO. of ITERATIONS REACHED LIMIT.\n",
      "\n",
      "Increase the number of iterations (max_iter) or scale the data as shown in:\n",
      "    https://scikit-learn.org/stable/modules/preprocessing.html\n",
      "Please also refer to the documentation for alternative solver options:\n",
      "    https://scikit-learn.org/stable/modules/linear_model.html#logistic-regression\n",
      "  n_iter_i = _check_optimize_result(\n"
     ]
    }
   ],
   "source": [
    "softmax_model = LogisticRegression(multi_class=\"multinomial\",solver=\"lbfgs\", C=10, random_state=250)\n",
    "#Training model\n",
    "softmax_model.fit(X_train,y_train)\n",
    "#Forecast data\n",
    "y_pred = softmax_model.predict(X_test)\n",
    "accuracy_1=accuracy_score(y_test,y_pred)\n",
    "print(accuracy_1)"
   ]
  },
  {
   "cell_type": "code",
   "execution_count": 118,
   "metadata": {},
   "outputs": [
    {
     "data": {
      "text/plain": [
       "<sklearn.metrics._plot.confusion_matrix.ConfusionMatrixDisplay at 0x1cd4de0d8e0>"
      ]
     },
     "execution_count": 118,
     "metadata": {},
     "output_type": "execute_result"
    },
    {
     "data": {
      "image/png": "[encoded data removed]",
      "text/plain": [
       "<Figure size 432x288 with 2 Axes>"
      ]
     },
     "metadata": {
      "needs_background": "light"
     },
     "output_type": "display_data"
    }
   ],
   "source": [
    "\n",
    "plot_confusion_matrix(softmax_model,X_test,y_test)"
   ]
  },
  {
   "cell_type": "code",
   "execution_count": 119,
   "metadata": {},
   "outputs": [
    {
     "name": "stdout",
     "output_type": "stream",
     "text": [
      "              precision    recall  f1-score   support\n",
      "\n",
      "        High       0.58      0.28      0.38        25\n",
      "         Low       0.76      0.56      0.64       120\n",
      "    Moderate       0.66      0.85      0.75       157\n",
      "\n",
      "    accuracy                           0.69       302\n",
      "   macro avg       0.67      0.56      0.59       302\n",
      "weighted avg       0.70      0.69      0.68       302\n",
      "\n"
     ]
    }
   ],
   "source": [
    "\n",
    "print(classification_report( y_test,y_pred))"
   ]
  },
  {
   "cell_type": "markdown",
   "metadata": {},
   "source": [
    "Since the accuracy:  is greater than the null hypothesis, we reject the null hypothesis in favor of the alternative"
   ]
  },
  {
   "cell_type": "markdown",
   "metadata": {},
   "source": [
    " <h3 style=\"text-align:left;color:#1A5276;\"> Using SMOTE "
   ]
  },
  {
   "cell_type": "markdown",
   "metadata": {},
   "source": [
    " </h3>"
   ]
  },
  {
   "cell_type": "code",
   "execution_count": 120,
   "metadata": {},
   "outputs": [],
   "source": [
    "\n",
    "sm = SMOTE(random_state = 2 )\n",
    "X_train, y_train = sm.fit_resample(X_train, y_train) "
   ]
  },
  {
   "cell_type": "code",
   "execution_count": 121,
   "metadata": {},
   "outputs": [
    {
     "data": {
      "text/plain": [
       "Moderate    468\n",
       "High        468\n",
       "Low         468\n",
       "Name: adaptivity_level, dtype: int64"
      ]
     },
     "execution_count": 121,
     "metadata": {},
     "output_type": "execute_result"
    }
   ],
   "source": [
    "y_train.value_counts() #Balanceo de datos"
   ]
  },
  {
   "cell_type": "code",
   "execution_count": 122,
   "metadata": {},
   "outputs": [
    {
     "name": "stdout",
     "output_type": "stream",
     "text": [
      "0.7019867549668874\n"
     ]
    },
    {
     "name": "stderr",
     "output_type": "stream",
     "text": [
      "c:\\Users\\Jannet\\Anaconda3\\envs\\dhdsblend2021\\lib\\site-packages\\sklearn\\linear_model\\_logistic.py:762: ConvergenceWarning: lbfgs failed to converge (status=1):\n",
      "STOP: TOTAL NO. of ITERATIONS REACHED LIMIT.\n",
      "\n",
      "Increase the number of iterations (max_iter) or scale the data as shown in:\n",
      "    https://scikit-learn.org/stable/modules/preprocessing.html\n",
      "Please also refer to the documentation for alternative solver options:\n",
      "    https://scikit-learn.org/stable/modules/linear_model.html#logistic-regression\n",
      "  n_iter_i = _check_optimize_result(\n"
     ]
    }
   ],
   "source": [
    "\n",
    "softmax_model.fit(X_train,y_train)\n",
    "#Forecast data\n",
    "y_pred_smote = softmax_model.predict(X_test)\n",
    "accuracy_2 = accuracy_score(y_test,y_pred_smote)\n",
    "\n",
    "print(accuracy_2)"
   ]
  },
  {
   "cell_type": "markdown",
   "metadata": {},
   "source": [
    "**with the use of Smote results of accuracy wasn't substantially higher**"
   ]
  },
  {
   "cell_type": "markdown",
   "metadata": {},
   "source": [
    "Finally, it is trained without the stratify parameter, a decrease in accuracy is expected."
   ]
  },
  {
   "cell_type": "markdown",
   "metadata": {},
   "source": [
    "The stratification parameter will ensure that the train and test split have the same class distribution index as the original dataset. It is crucial in the case of unbalanced data sets. Otherwise, it could happen that the training data only consists of the majority class."
   ]
  },
  {
   "cell_type": "code",
   "execution_count": 123,
   "metadata": {},
   "outputs": [
    {
     "name": "stdout",
     "output_type": "stream",
     "text": [
      "0.44039735099337746\n"
     ]
    },
    {
     "name": "stderr",
     "output_type": "stream",
     "text": [
      "c:\\Users\\Jannet\\Anaconda3\\envs\\dhdsblend2021\\lib\\site-packages\\sklearn\\linear_model\\_logistic.py:762: ConvergenceWarning: lbfgs failed to converge (status=1):\n",
      "STOP: TOTAL NO. of ITERATIONS REACHED LIMIT.\n",
      "\n",
      "Increase the number of iterations (max_iter) or scale the data as shown in:\n",
      "    https://scikit-learn.org/stable/modules/preprocessing.html\n",
      "Please also refer to the documentation for alternative solver options:\n",
      "    https://scikit-learn.org/stable/modules/linear_model.html#logistic-regression\n",
      "  n_iter_i = _check_optimize_result(\n"
     ]
    }
   ],
   "source": [
    "\n",
    "X_train, X_test, y_train, y_test = train_test_split(X,y,test_size=0.25)#sin stratify\n",
    "#scaler = StandardScaler()\n",
    "X_train = pd.DataFrame(scaler.fit_transform(X_train))\n",
    "X_test = pd.DataFrame(scaler.transform(X_test))\n",
    "\n",
    "softmax_model.fit(X_train,y_train)\n",
    "#Forecast data\n",
    "y_pred_sinST = softmax_model.predict(X_test)\n",
    "accuracy_score(y_test,y_pred_sinST)\n",
    "accuracy_3 = accuracy_score(y_test,y_pred_smote)\n",
    "\n",
    "print(accuracy_3)"
   ]
  },
  {
   "cell_type": "code",
   "execution_count": 124,
   "metadata": {},
   "outputs": [],
   "source": [
    "H0=0.518672"
   ]
  },
  {
   "cell_type": "markdown",
   "metadata": {},
   "source": []
  },
  {
   "cell_type": "markdown",
   "metadata": {},
   "source": [
    "<h1 style=\"text-align:center;color:#707B7C;\">Summary </h1>"
   ]
  },
  {
   "cell_type": "code",
   "execution_count": 125,
   "metadata": {},
   "outputs": [
    {
     "data": {
      "text/html": [
       "<div>\n",
       "<style scoped>\n",
       "    .dataframe tbody tr th:only-of-type {\n",
       "        vertical-align: middle;\n",
       "    }\n",
       "\n",
       "    .dataframe tbody tr th {\n",
       "        vertical-align: top;\n",
       "    }\n",
       "\n",
       "    .dataframe thead th {\n",
       "        text-align: right;\n",
       "    }\n",
       "</style>\n",
       "<table border=\"1\" class=\"dataframe\">\n",
       "  <thead>\n",
       "    <tr style=\"text-align: right;\">\n",
       "      <th></th>\n",
       "      <th>Model</th>\n",
       "      <th>Accuracy</th>\n",
       "    </tr>\n",
       "  </thead>\n",
       "  <tbody>\n",
       "    <tr>\n",
       "      <th>2</th>\n",
       "      <td>Multinomial_smote</td>\n",
       "      <td>0.701987</td>\n",
       "    </tr>\n",
       "    <tr>\n",
       "      <th>1</th>\n",
       "      <td>Multinomial_básico</td>\n",
       "      <td>0.688742</td>\n",
       "    </tr>\n",
       "    <tr>\n",
       "      <th>0</th>\n",
       "      <td>H0</td>\n",
       "      <td>0.518672</td>\n",
       "    </tr>\n",
       "    <tr>\n",
       "      <th>3</th>\n",
       "      <td>Multinomial_sin_stratify</td>\n",
       "      <td>0.440397</td>\n",
       "    </tr>\n",
       "  </tbody>\n",
       "</table>\n",
       "</div>"
      ],
      "text/plain": [
       "                      Model  Accuracy\n",
       "2         Multinomial_smote  0.701987\n",
       "1        Multinomial_básico  0.688742\n",
       "0                        H0  0.518672\n",
       "3  Multinomial_sin_stratify  0.440397"
      ]
     },
     "execution_count": 125,
     "metadata": {},
     "output_type": "execute_result"
    }
   ],
   "source": [
    "modelo_performance_accuracy = pd.DataFrame({'Model': ['H0',\n",
    "                                                      'Multinomial_básico',\n",
    "                                                      'Multinomial_smote',  \n",
    "                                                      'Multinomial_sin_stratify'],\n",
    "                                            'Accuracy': [H0,\n",
    "                                                         accuracy_1,\n",
    "                                                         accuracy_2,\n",
    "                                                         accuracy_3,\n",
    "                                                        ]})\n",
    "modelo_performance_accuracy.sort_values(by = \"Accuracy\", ascending = False)"
   ]
  },
  {
   "cell_type": "markdown",
   "metadata": {},
   "source": [
    "<h1 style=\"text-align:center;color:#707B7C;\">Conclussion </h1>"
   ]
  },
  {
   "cell_type": "markdown",
   "metadata": {},
   "source": [
    "<h5 style=\"text-align:left;color:white;\">\n",
    "Statistical conclusion:<span style=\"color:#707B7C\">Reject H0 with multinomial model.</span>\n",
    "\n",
    "- It is proven that the stratify parameter during the division of X_train and X_test contributes to a better performance of the model since the categories were found to be unbalanced, and its use is fundamental.\n",
    "\n",
    "-  A maximum accuracy of <span style=\"color:#707B7C\">0.95</span> was obtained by passing the target variable to dummies and taking as X: adaptvity_level_Moderate, for the models that required numerical variables.\n",
    "\n",
    "-  An accuracy of <span style=\"color:#707B7C\">0.7</span> was obtained with the multinomial model, preserving the target with its three categories. In the latter, the smote method was evaluated without improving the performance of the model. </h5>"
   ]
  },
  {
   "cell_type": "markdown",
   "metadata": {},
   "source": [
    "**Thanks**"
   ]
  }
 ],
 "metadata": {
  "kernelspec": {
   "display_name": "Python 3.8.12",
   "language": "python",
   "name": "python3"
  },
  "language_info": {
   "codemirror_mode": {
    "name": "ipython",
    "version": 3
   },
   "file_extension": ".py",
   "mimetype": "text/x-python",
   "name": "python",
   "nbconvert_exporter": "python",
   "pygments_lexer": "ipython3",
   "version": "3.8.12"
  },
  "orig_nbformat": 4,
  "vscode": {
   "interpreter": {
    "hash": "1cb779b4ccea16fedb6223bb1e485e577c039bcf1a4e3b9f387fd5fe12c24261"
   }
  }
 },
 "nbformat": 4,
 "nbformat_minor": 2
}
