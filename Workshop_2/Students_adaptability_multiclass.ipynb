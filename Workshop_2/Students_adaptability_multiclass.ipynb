{
 "cells": [
  {
   "cell_type": "markdown",
   "metadata": {},
   "source": [
    "# Students Adaptability Level in Online Education\n",
    "Effectiveness of online education\n"
   ]
  },
  {
   "cell_type": "markdown",
   "metadata": {},
   "source": [
    "## Dataset\n",
    "\n",
    "**Introducción**\n",
    "\n",
    "Since as a beginner in machine learning it would be a great opportunity to try some techniques to predict the outcome of Students’ Adaptability Level Prediction in Online Education using Machine Learning Approaches\n",
    "\n",
    "\n",
    "**Fuente**\n",
    "\n",
    "the original research paper. Students' Adaptability Level Prediction in Online Education using Machine Learning Approaches or DOI: 10.1109/ICCCNT51525.2021.9579741\n",
    "\n",
    "https://www.kaggle.com/datasets/mdmahmudulhasansuzan/students-adaptability-level-in-online-education\n",
    "\n",
    "**Inspiration**\n",
    "\n",
    "Provides an idea about the effectiveness of online education \n",
    "\n",
    "\n",
    "\n",
    "\n",
    "**Variables**\n",
    "\n",
    "The target feature is:\n",
    "Adaptivity level\n",
    "\n",
    "The feature sets are:\n",
    "Gender |\n",
    "Age|\n",
    "Education Level|\n",
    "Institution Type|\n",
    "IT Student|\n",
    "Location in Town|\n",
    "Load-shedding|\n",
    "Financial Condition|\n",
    "Internet Type|\n",
    "Network Type|\n",
    "Class Duration|\n",
    "Self LMS|\n",
    "Device|\n",
    "\n"
   ]
  },
  {
   "cell_type": "markdown",
   "metadata": {},
   "source": [
    "## Imports"
   ]
  },
  {
   "cell_type": "code",
   "execution_count": 49,
   "metadata": {},
   "outputs": [],
   "source": [
    "import pandas as pd\n",
    "import numpy as np\n",
    "\n"
   ]
  },
  {
   "cell_type": "markdown",
   "metadata": {},
   "source": [
    "##  Preparing data for exploration\n",
    "\n",
    "Opening dataset students_adaptability_level_online_education.csv\n",
    "\n"
   ]
  },
  {
   "cell_type": "code",
   "execution_count": 50,
   "metadata": {},
   "outputs": [
    {
     "data": {
      "text/plain": [
       "(1205, 14)"
      ]
     },
     "execution_count": 50,
     "metadata": {},
     "output_type": "execute_result"
    }
   ],
   "source": [
    "data_raw = pd.read_csv('students_adaptability_level_online_education.csv')\n",
    "data_raw.shape"
   ]
  },
  {
   "cell_type": "markdown",
   "metadata": {},
   "source": [
    "Data exploratory"
   ]
  },
  {
   "cell_type": "code",
   "execution_count": 51,
   "metadata": {},
   "outputs": [
    {
     "data": {
      "text/plain": [
       "Index(['Gender', 'Age', 'Education Level', 'Institution Type', 'IT Student',\n",
       "       'Location', 'Load-shedding', 'Financial Condition', 'Internet Type',\n",
       "       'Network Type', 'Class Duration', 'Self Lms', 'Device',\n",
       "       'Adaptivity Level'],\n",
       "      dtype='object')"
      ]
     },
     "execution_count": 51,
     "metadata": {},
     "output_type": "execute_result"
    }
   ],
   "source": [
    "data_raw.columns"
   ]
  },
  {
   "cell_type": "markdown",
   "metadata": {},
   "source": [
    "\n",
    "Rename columns"
   ]
  },
  {
   "cell_type": "code",
   "execution_count": 52,
   "metadata": {},
   "outputs": [],
   "source": [
    "data_raw.rename(columns={\"Gender\":\"gender\",\"Age\":\"age\",\"Education Level\":\"education_level\",\n",
    "\"Institution Type\":\"institution_type\",\"IT Student\":\"IT_student\",\"Location\":\"location\",\n",
    "\"Load-shedding\":\"electricity_supply\",\"Financial Condition\":\"financial_condition\",\n",
    "\"Internet Type\":\"internet_type\",\"Network Type\":\"network_type\",\"Class Duration\":\"class_duration\",\n",
    "\"Self Lms\":\"learning_system\",\"Device\":\"device\",\"Adaptivity Level\":\"adaptivity_level\",\n",
    "} ,inplace=True)"
   ]
  },
  {
   "cell_type": "code",
   "execution_count": 53,
   "metadata": {},
   "outputs": [
    {
     "data": {
      "text/html": [
       "<div>\n",
       "<style scoped>\n",
       "    .dataframe tbody tr th:only-of-type {\n",
       "        vertical-align: middle;\n",
       "    }\n",
       "\n",
       "    .dataframe tbody tr th {\n",
       "        vertical-align: top;\n",
       "    }\n",
       "\n",
       "    .dataframe thead th {\n",
       "        text-align: right;\n",
       "    }\n",
       "</style>\n",
       "<table border=\"1\" class=\"dataframe\">\n",
       "  <thead>\n",
       "    <tr style=\"text-align: right;\">\n",
       "      <th></th>\n",
       "      <th>gender</th>\n",
       "      <th>age</th>\n",
       "      <th>education_level</th>\n",
       "      <th>institution_type</th>\n",
       "      <th>IT_student</th>\n",
       "      <th>location</th>\n",
       "      <th>electricity_supply</th>\n",
       "      <th>financial_condition</th>\n",
       "      <th>internet_type</th>\n",
       "      <th>network_type</th>\n",
       "      <th>class_duration</th>\n",
       "      <th>learning_system</th>\n",
       "      <th>device</th>\n",
       "      <th>adaptivity_level</th>\n",
       "    </tr>\n",
       "  </thead>\n",
       "  <tbody>\n",
       "    <tr>\n",
       "      <th>0</th>\n",
       "      <td>Boy</td>\n",
       "      <td>21-25</td>\n",
       "      <td>University</td>\n",
       "      <td>Non Government</td>\n",
       "      <td>No</td>\n",
       "      <td>Yes</td>\n",
       "      <td>Low</td>\n",
       "      <td>Mid</td>\n",
       "      <td>Wifi</td>\n",
       "      <td>4G</td>\n",
       "      <td>3-6</td>\n",
       "      <td>No</td>\n",
       "      <td>Tab</td>\n",
       "      <td>Moderate</td>\n",
       "    </tr>\n",
       "    <tr>\n",
       "      <th>1</th>\n",
       "      <td>Girl</td>\n",
       "      <td>21-25</td>\n",
       "      <td>University</td>\n",
       "      <td>Non Government</td>\n",
       "      <td>No</td>\n",
       "      <td>Yes</td>\n",
       "      <td>High</td>\n",
       "      <td>Mid</td>\n",
       "      <td>Mobile Data</td>\n",
       "      <td>4G</td>\n",
       "      <td>1-3</td>\n",
       "      <td>Yes</td>\n",
       "      <td>Mobile</td>\n",
       "      <td>Moderate</td>\n",
       "    </tr>\n",
       "    <tr>\n",
       "      <th>2</th>\n",
       "      <td>Girl</td>\n",
       "      <td>16-20</td>\n",
       "      <td>College</td>\n",
       "      <td>Government</td>\n",
       "      <td>No</td>\n",
       "      <td>Yes</td>\n",
       "      <td>Low</td>\n",
       "      <td>Mid</td>\n",
       "      <td>Wifi</td>\n",
       "      <td>4G</td>\n",
       "      <td>1-3</td>\n",
       "      <td>No</td>\n",
       "      <td>Mobile</td>\n",
       "      <td>Moderate</td>\n",
       "    </tr>\n",
       "  </tbody>\n",
       "</table>\n",
       "</div>"
      ],
      "text/plain": [
       "  gender    age education_level institution_type IT_student location  \\\n",
       "0    Boy  21-25      University   Non Government         No      Yes   \n",
       "1   Girl  21-25      University   Non Government         No      Yes   \n",
       "2   Girl  16-20         College       Government         No      Yes   \n",
       "\n",
       "  electricity_supply financial_condition internet_type network_type  \\\n",
       "0                Low                 Mid          Wifi           4G   \n",
       "1               High                 Mid   Mobile Data           4G   \n",
       "2                Low                 Mid          Wifi           4G   \n",
       "\n",
       "  class_duration learning_system  device adaptivity_level  \n",
       "0            3-6              No     Tab         Moderate  \n",
       "1            1-3             Yes  Mobile         Moderate  \n",
       "2            1-3              No  Mobile         Moderate  "
      ]
     },
     "execution_count": 53,
     "metadata": {},
     "output_type": "execute_result"
    }
   ],
   "source": [
    "data_raw.head(3)"
   ]
  },
  {
   "cell_type": "code",
   "execution_count": 54,
   "metadata": {},
   "outputs": [
    {
     "name": "stdout",
     "output_type": "stream",
     "text": [
      "<class 'pandas.core.frame.DataFrame'>\n",
      "RangeIndex: 1205 entries, 0 to 1204\n",
      "Data columns (total 14 columns):\n",
      " #   Column               Non-Null Count  Dtype \n",
      "---  ------               --------------  ----- \n",
      " 0   gender               1205 non-null   object\n",
      " 1   age                  1205 non-null   object\n",
      " 2   education_level      1205 non-null   object\n",
      " 3   institution_type     1205 non-null   object\n",
      " 4   IT_student           1205 non-null   object\n",
      " 5   location             1205 non-null   object\n",
      " 6   electricity_supply   1205 non-null   object\n",
      " 7   financial_condition  1205 non-null   object\n",
      " 8   internet_type        1205 non-null   object\n",
      " 9   network_type         1205 non-null   object\n",
      " 10  class_duration       1205 non-null   object\n",
      " 11  learning_system      1205 non-null   object\n",
      " 12  device               1205 non-null   object\n",
      " 13  adaptivity_level     1205 non-null   object\n",
      "dtypes: object(14)\n",
      "memory usage: 131.9+ KB\n"
     ]
    }
   ],
   "source": [
    "data_raw.info()"
   ]
  },
  {
   "cell_type": "code",
   "execution_count": 55,
   "metadata": {},
   "outputs": [
    {
     "data": {
      "text/html": [
       "<div>\n",
       "<style scoped>\n",
       "    .dataframe tbody tr th:only-of-type {\n",
       "        vertical-align: middle;\n",
       "    }\n",
       "\n",
       "    .dataframe tbody tr th {\n",
       "        vertical-align: top;\n",
       "    }\n",
       "\n",
       "    .dataframe thead th {\n",
       "        text-align: right;\n",
       "    }\n",
       "</style>\n",
       "<table border=\"1\" class=\"dataframe\">\n",
       "  <thead>\n",
       "    <tr style=\"text-align: right;\">\n",
       "      <th></th>\n",
       "      <th>gender</th>\n",
       "      <th>age</th>\n",
       "      <th>education_level</th>\n",
       "      <th>institution_type</th>\n",
       "      <th>IT_student</th>\n",
       "      <th>location</th>\n",
       "      <th>electricity_supply</th>\n",
       "      <th>financial_condition</th>\n",
       "      <th>internet_type</th>\n",
       "      <th>network_type</th>\n",
       "      <th>class_duration</th>\n",
       "      <th>learning_system</th>\n",
       "      <th>device</th>\n",
       "      <th>adaptivity_level</th>\n",
       "    </tr>\n",
       "  </thead>\n",
       "  <tbody>\n",
       "    <tr>\n",
       "      <th>count</th>\n",
       "      <td>1205</td>\n",
       "      <td>1205</td>\n",
       "      <td>1205</td>\n",
       "      <td>1205</td>\n",
       "      <td>1205</td>\n",
       "      <td>1205</td>\n",
       "      <td>1205</td>\n",
       "      <td>1205</td>\n",
       "      <td>1205</td>\n",
       "      <td>1205</td>\n",
       "      <td>1205</td>\n",
       "      <td>1205</td>\n",
       "      <td>1205</td>\n",
       "      <td>1205</td>\n",
       "    </tr>\n",
       "    <tr>\n",
       "      <th>unique</th>\n",
       "      <td>2</td>\n",
       "      <td>6</td>\n",
       "      <td>3</td>\n",
       "      <td>2</td>\n",
       "      <td>2</td>\n",
       "      <td>2</td>\n",
       "      <td>2</td>\n",
       "      <td>3</td>\n",
       "      <td>2</td>\n",
       "      <td>3</td>\n",
       "      <td>3</td>\n",
       "      <td>2</td>\n",
       "      <td>3</td>\n",
       "      <td>3</td>\n",
       "    </tr>\n",
       "    <tr>\n",
       "      <th>top</th>\n",
       "      <td>Boy</td>\n",
       "      <td>21-25</td>\n",
       "      <td>School</td>\n",
       "      <td>Non Government</td>\n",
       "      <td>No</td>\n",
       "      <td>Yes</td>\n",
       "      <td>Low</td>\n",
       "      <td>Mid</td>\n",
       "      <td>Mobile Data</td>\n",
       "      <td>4G</td>\n",
       "      <td>1-3</td>\n",
       "      <td>No</td>\n",
       "      <td>Mobile</td>\n",
       "      <td>Moderate</td>\n",
       "    </tr>\n",
       "    <tr>\n",
       "      <th>freq</th>\n",
       "      <td>663</td>\n",
       "      <td>374</td>\n",
       "      <td>530</td>\n",
       "      <td>823</td>\n",
       "      <td>901</td>\n",
       "      <td>935</td>\n",
       "      <td>1004</td>\n",
       "      <td>878</td>\n",
       "      <td>695</td>\n",
       "      <td>775</td>\n",
       "      <td>840</td>\n",
       "      <td>995</td>\n",
       "      <td>1013</td>\n",
       "      <td>625</td>\n",
       "    </tr>\n",
       "  </tbody>\n",
       "</table>\n",
       "</div>"
      ],
      "text/plain": [
       "       gender    age education_level institution_type IT_student location  \\\n",
       "count    1205   1205            1205             1205       1205     1205   \n",
       "unique      2      6               3                2          2        2   \n",
       "top       Boy  21-25          School   Non Government         No      Yes   \n",
       "freq      663    374             530              823        901      935   \n",
       "\n",
       "       electricity_supply financial_condition internet_type network_type  \\\n",
       "count                1205                1205          1205         1205   \n",
       "unique                  2                   3             2            3   \n",
       "top                   Low                 Mid   Mobile Data           4G   \n",
       "freq                 1004                 878           695          775   \n",
       "\n",
       "       class_duration learning_system  device adaptivity_level  \n",
       "count            1205            1205    1205             1205  \n",
       "unique              3               2       3                3  \n",
       "top               1-3              No  Mobile         Moderate  \n",
       "freq              840             995    1013              625  "
      ]
     },
     "execution_count": 55,
     "metadata": {},
     "output_type": "execute_result"
    }
   ],
   "source": [
    "data_raw.describe()"
   ]
  },
  {
   "cell_type": "markdown",
   "metadata": {},
   "source": [
    "DATA CLEANSING"
   ]
  },
  {
   "cell_type": "code",
   "execution_count": 56,
   "metadata": {},
   "outputs": [],
   "source": [
    "def porcentaje_nulos(data):\n",
    " nulos=pd.DataFrame(data.isnull().sum())\n",
    " nulos['porcentaje_nulos'] =round(nulos/data.shape[0]*100,2)\n",
    " print (nulos[1:])"
   ]
  },
  {
   "cell_type": "code",
   "execution_count": 57,
   "metadata": {},
   "outputs": [
    {
     "name": "stdout",
     "output_type": "stream",
     "text": [
      "                     0  porcentaje_nulos\n",
      "age                  0               0.0\n",
      "education_level      0               0.0\n",
      "institution_type     0               0.0\n",
      "IT_student           0               0.0\n",
      "location             0               0.0\n",
      "electricity_supply   0               0.0\n",
      "financial_condition  0               0.0\n",
      "internet_type        0               0.0\n",
      "network_type         0               0.0\n",
      "class_duration       0               0.0\n",
      "learning_system      0               0.0\n",
      "device               0               0.0\n",
      "adaptivity_level     0               0.0\n"
     ]
    }
   ],
   "source": [
    "porcentaje_nulos(data_raw)"
   ]
  },
  {
   "cell_type": "markdown",
   "metadata": {},
   "source": [
    "Doesn't contain NULL values"
   ]
  },
  {
   "cell_type": "code",
   "execution_count": 58,
   "metadata": {},
   "outputs": [
    {
     "data": {
      "text/html": [
       "<div>\n",
       "<style scoped>\n",
       "    .dataframe tbody tr th:only-of-type {\n",
       "        vertical-align: middle;\n",
       "    }\n",
       "\n",
       "    .dataframe tbody tr th {\n",
       "        vertical-align: top;\n",
       "    }\n",
       "\n",
       "    .dataframe thead th {\n",
       "        text-align: right;\n",
       "    }\n",
       "</style>\n",
       "<table border=\"1\" class=\"dataframe\">\n",
       "  <thead>\n",
       "    <tr style=\"text-align: right;\">\n",
       "      <th></th>\n",
       "      <th>adaptivity_level</th>\n",
       "      <th>percentaje</th>\n",
       "    </tr>\n",
       "  </thead>\n",
       "  <tbody>\n",
       "    <tr>\n",
       "      <th>Moderate</th>\n",
       "      <td>625</td>\n",
       "      <td>51.87</td>\n",
       "    </tr>\n",
       "    <tr>\n",
       "      <th>Low</th>\n",
       "      <td>480</td>\n",
       "      <td>39.83</td>\n",
       "    </tr>\n",
       "    <tr>\n",
       "      <th>High</th>\n",
       "      <td>100</td>\n",
       "      <td>8.30</td>\n",
       "    </tr>\n",
       "  </tbody>\n",
       "</table>\n",
       "</div>"
      ],
      "text/plain": [
       "          adaptivity_level  percentaje\n",
       "Moderate               625       51.87\n",
       "Low                    480       39.83\n",
       "High                   100        8.30"
      ]
     },
     "execution_count": 58,
     "metadata": {},
     "output_type": "execute_result"
    }
   ],
   "source": [
    "#Percentaje of items on the variable target\n",
    "target =pd.DataFrame(data_raw['adaptivity_level'].value_counts())\n",
    "target['percentaje']=round(target/ data_raw.shape[0]*100,2)\n",
    "target[:]"
   ]
  },
  {
   "cell_type": "markdown",
   "metadata": {},
   "source": [
    "Probability of find a students with Moderate category is as follows: \n",
    "\n",
    "$$ Probability = \\frac{625}{1205}  = 0.5186721992$$"
   ]
  },
  {
   "cell_type": "markdown",
   "metadata": {},
   "source": [
    "Null Hypothesis:\n",
    "\n",
    "H0: The probability of find a student with Moderate category : 0.52\n",
    "\n",
    "Alternative hypothesis.\n",
    "\n",
    "H1: The probability of find a student with Moderate category > 0.52\n"
   ]
  },
  {
   "cell_type": "code",
   "execution_count": 59,
   "metadata": {},
   "outputs": [
    {
     "data": {
      "text/plain": [
       "Text(0.5, 1.0, 'adaptivity_level')"
      ]
     },
     "execution_count": 59,
     "metadata": {},
     "output_type": "execute_result"
    },
    {
     "data": {
      "image/png": "[encoded data removed]",
      "text/plain": [
       "<Figure size 2160x576 with 1 Axes>"
      ]
     },
     "metadata": {
      "needs_background": "light"
     },
     "output_type": "display_data"
    }
   ],
   "source": [
    "#Graphs\n",
    "import matplotlib.pyplot as plt\n",
    "import seaborn as sns\n",
    "plt.figure(figsize=(30,8))\n",
    "sns.countplot(x='adaptivity_level',data=data_raw)\n",
    "plt.xticks(rotation=90)\n",
    "plt.xlabel(\"adaptivity_level\", fontsize=18)\n",
    "plt.ylabel(\"\", fontsize=18)\n",
    "plt.title(\"adaptivity_level\", fontsize=18)"
   ]
  },
  {
   "cell_type": "markdown",
   "metadata": {},
   "source": [
    "#Ver outlayers - Detecting the outliers"
   ]
  },
  {
   "cell_type": "code",
   "execution_count": 12,
   "metadata": {},
   "outputs": [
    {
     "data": {
      "image/png": "[encoded data removed]",
      "text/plain": [
       "<Figure size 432x288 with 1 Axes>"
      ]
     },
     "metadata": {},
     "output_type": "display_data"
    }
   ],
   "source": [
    "y=data_raw['electricity_supply'].value_counts() \n",
    "valores = y[:5].values.tolist()\n",
    "labels=y[:5].index.tolist()\n",
    "plt.pie(valores,labels=labels)\n",
    "fig=plt.show()"
   ]
  },
  {
   "cell_type": "code",
   "execution_count": 60,
   "metadata": {},
   "outputs": [
    {
     "data": {
      "image/png": "[encoded data removed]",
      "text/plain": [
       "<Figure size 432x288 with 1 Axes>"
      ]
     },
     "metadata": {},
     "output_type": "display_data"
    }
   ],
   "source": [
    "y=data_raw['age'].value_counts() \n",
    "valores = y[:5].values.tolist()\n",
    "labels=y[:5].index.tolist()\n",
    "plt.pie(valores,labels=labels)\n",
    "fig=plt.show()"
   ]
  },
  {
   "cell_type": "code",
   "execution_count": 61,
   "metadata": {},
   "outputs": [
    {
     "data": {
      "image/png": "[encoded data removed]",
      "text/plain": [
       "<Figure size 432x288 with 1 Axes>"
      ]
     },
     "metadata": {},
     "output_type": "display_data"
    }
   ],
   "source": [
    "y=data_raw['gender'].value_counts() \n",
    "valores = y[:5].values.tolist()\n",
    "labels=y[:5].index.tolist()\n",
    "plt.pie(valores,labels=labels)\n",
    "fig=plt.show()\n"
   ]
  },
  {
   "cell_type": "code",
   "execution_count": 62,
   "metadata": {},
   "outputs": [
    {
     "data": {
      "image/png": "[encoded data removed]",
      "text/plain": [
       "<Figure size 432x288 with 1 Axes>"
      ]
     },
     "metadata": {},
     "output_type": "display_data"
    }
   ],
   "source": [
    "y=data_raw['education_level'].value_counts() \n",
    "valores = y[:5].values.tolist()\n",
    "labels=y[:5].index.tolist()\n",
    "plt.pie(valores,labels=labels)\n",
    "fig=plt.show()\n"
   ]
  },
  {
   "cell_type": "code",
   "execution_count": 63,
   "metadata": {},
   "outputs": [
    {
     "data": {
      "image/png": "[encoded data removed]",
      "text/plain": [
       "<Figure size 432x288 with 1 Axes>"
      ]
     },
     "metadata": {},
     "output_type": "display_data"
    }
   ],
   "source": [
    "y=data_raw['institution_type'].value_counts() \n",
    "valores = y[:5].values.tolist()\n",
    "labels=y[:5].index.tolist()\n",
    "plt.pie(valores,labels=labels)\n",
    "fig=plt.show()"
   ]
  },
  {
   "cell_type": "code",
   "execution_count": 64,
   "metadata": {},
   "outputs": [
    {
     "data": {
      "image/png": "[encoded data removed]",
      "text/plain": [
       "<Figure size 432x288 with 1 Axes>"
      ]
     },
     "metadata": {},
     "output_type": "display_data"
    }
   ],
   "source": [
    "y=data_raw['financial_condition'].value_counts() \n",
    "valores = y[:5].values.tolist()\n",
    "labels=y[:5].index.tolist()\n",
    "plt.pie(valores,labels=labels)\n",
    "fig=plt.show()"
   ]
  },
  {
   "cell_type": "code",
   "execution_count": 65,
   "metadata": {},
   "outputs": [
    {
     "data": {
      "image/png": "[encoded data removed]",
      "text/plain": [
       "<Figure size 432x288 with 1 Axes>"
      ]
     },
     "metadata": {},
     "output_type": "display_data"
    }
   ],
   "source": [
    "y=data_raw['location'].value_counts() \n",
    "valores = y[:5].values.tolist()\n",
    "labels=y[:5].index.tolist()\n",
    "plt.pie(valores,labels=labels)\n",
    "fig=plt.show()"
   ]
  },
  {
   "cell_type": "code",
   "execution_count": 66,
   "metadata": {},
   "outputs": [
    {
     "data": {
      "image/png": "[encoded data removed]",
      "text/plain": [
       "<Figure size 432x288 with 1 Axes>"
      ]
     },
     "metadata": {},
     "output_type": "display_data"
    }
   ],
   "source": [
    "y=data_raw['class_duration'].value_counts() \n",
    "valores = y[:5].values.tolist()\n",
    "labels=y[:5].index.tolist()\n",
    "plt.pie(valores,labels=labels)\n",
    "fig=plt.show()\n",
    "\n"
   ]
  },
  {
   "cell_type": "code",
   "execution_count": 67,
   "metadata": {},
   "outputs": [
    {
     "data": {
      "text/html": [
       "<div>\n",
       "<style scoped>\n",
       "    .dataframe tbody tr th:only-of-type {\n",
       "        vertical-align: middle;\n",
       "    }\n",
       "\n",
       "    .dataframe tbody tr th {\n",
       "        vertical-align: top;\n",
       "    }\n",
       "\n",
       "    .dataframe thead th {\n",
       "        text-align: right;\n",
       "    }\n",
       "</style>\n",
       "<table border=\"1\" class=\"dataframe\">\n",
       "  <thead>\n",
       "    <tr style=\"text-align: right;\">\n",
       "      <th></th>\n",
       "      <th>class_duration</th>\n",
       "      <th>percentaje</th>\n",
       "    </tr>\n",
       "  </thead>\n",
       "  <tbody>\n",
       "    <tr>\n",
       "      <th>1-3</th>\n",
       "      <td>840</td>\n",
       "      <td>69.71</td>\n",
       "    </tr>\n",
       "    <tr>\n",
       "      <th>3-6</th>\n",
       "      <td>211</td>\n",
       "      <td>17.51</td>\n",
       "    </tr>\n",
       "    <tr>\n",
       "      <th>0</th>\n",
       "      <td>154</td>\n",
       "      <td>12.78</td>\n",
       "    </tr>\n",
       "  </tbody>\n",
       "</table>\n",
       "</div>"
      ],
      "text/plain": [
       "     class_duration  percentaje\n",
       "1-3             840       69.71\n",
       "3-6             211       17.51\n",
       "0               154       12.78"
      ]
     },
     "execution_count": 67,
     "metadata": {},
     "output_type": "execute_result"
    }
   ],
   "source": [
    "#Atypical values \n",
    "target =pd.DataFrame(data_raw['class_duration'].value_counts())\n",
    "target['percentaje']=round(target/ data_raw.shape[0]*100,2)\n",
    "target[:]"
   ]
  },
  {
   "cell_type": "markdown",
   "metadata": {},
   "source": [
    "Replace 0 values in class_duration with mode"
   ]
  },
  {
   "cell_type": "code",
   "execution_count": 68,
   "metadata": {},
   "outputs": [],
   "source": [
    "data_raw.class_duration[data_raw.class_duration == \"0\"] = \"1-3\"\n"
   ]
  },
  {
   "cell_type": "code",
   "execution_count": 69,
   "metadata": {},
   "outputs": [
    {
     "data": {
      "text/html": [
       "<div>\n",
       "<style scoped>\n",
       "    .dataframe tbody tr th:only-of-type {\n",
       "        vertical-align: middle;\n",
       "    }\n",
       "\n",
       "    .dataframe tbody tr th {\n",
       "        vertical-align: top;\n",
       "    }\n",
       "\n",
       "    .dataframe thead th {\n",
       "        text-align: right;\n",
       "    }\n",
       "</style>\n",
       "<table border=\"1\" class=\"dataframe\">\n",
       "  <thead>\n",
       "    <tr style=\"text-align: right;\">\n",
       "      <th></th>\n",
       "      <th>class_duration</th>\n",
       "      <th>percentaje</th>\n",
       "    </tr>\n",
       "  </thead>\n",
       "  <tbody>\n",
       "    <tr>\n",
       "      <th>1-3</th>\n",
       "      <td>994</td>\n",
       "      <td>82.49</td>\n",
       "    </tr>\n",
       "    <tr>\n",
       "      <th>3-6</th>\n",
       "      <td>211</td>\n",
       "      <td>17.51</td>\n",
       "    </tr>\n",
       "  </tbody>\n",
       "</table>\n",
       "</div>"
      ],
      "text/plain": [
       "     class_duration  percentaje\n",
       "1-3             994       82.49\n",
       "3-6             211       17.51"
      ]
     },
     "execution_count": 69,
     "metadata": {},
     "output_type": "execute_result"
    }
   ],
   "source": [
    "#Now let's check the values\n",
    "target =pd.DataFrame(data_raw['class_duration'].value_counts())\n",
    "target['percentaje']=round(target/ data_raw.shape[0]*100,2)\n",
    "target[:]"
   ]
  },
  {
   "cell_type": "markdown",
   "metadata": {},
   "source": [
    "As machine learning algorithms need to take input in numerical inputs, let's get dummies"
   ]
  },
  {
   "cell_type": "code",
   "execution_count": 70,
   "metadata": {},
   "outputs": [],
   "source": [
    "data_dumies=pd.get_dummies(data_raw,columns=['gender','age', 'education_level', 'institution_type',\n",
    "       'electricity_supply', 'financial_condition', 'internet_type',\n",
    "       'network_type', 'class_duration', 'learning_system', 'device','IT_student','location'],drop_first=True)"
   ]
  },
  {
   "cell_type": "markdown",
   "metadata": {},
   "source": [
    "Defining feature and target "
   ]
  },
  {
   "cell_type": "code",
   "execution_count": 71,
   "metadata": {},
   "outputs": [],
   "source": [
    "X=data_dumies.drop(['adaptivity_level'],axis=1)#Features \n",
    "y=data_dumies['adaptivity_level'] #target"
   ]
  },
  {
   "cell_type": "markdown",
   "metadata": {},
   "source": [
    "\n",
    "Loocks very well. We can now start training the machine learning models using the above data "
   ]
  },
  {
   "cell_type": "markdown",
   "metadata": {},
   "source": [
    "Multinomial model"
   ]
  },
  {
   "cell_type": "markdown",
   "metadata": {},
   "source": [
    "Multiclass logistic regression is also called multinomial logistic regression and softmax regression. It is used when we want to predict more than 2 classes. "
   ]
  },
  {
   "cell_type": "code",
   "execution_count": 79,
   "metadata": {},
   "outputs": [
    {
     "data": {
      "image/jpeg": "[encoded data removed]",
      "text/plain": [
       "<IPython.core.display.Image object>"
      ]
     },
     "execution_count": 79,
     "metadata": {},
     "output_type": "execute_result"
    }
   ],
   "source": [
    "from IPython.display import Image\n",
    "Image(filename='image.jpg')"
   ]
  },
  {
   "cell_type": "code",
   "execution_count": 72,
   "metadata": {},
   "outputs": [
    {
     "name": "stderr",
     "output_type": "stream",
     "text": [
      "c:\\Users\\Jannet\\Anaconda3\\envs\\dhdsblend2021\\lib\\site-packages\\sklearn\\linear_model\\_logistic.py:762: ConvergenceWarning: lbfgs failed to converge (status=1):\n",
      "STOP: TOTAL NO. of ITERATIONS REACHED LIMIT.\n",
      "\n",
      "Increase the number of iterations (max_iter) or scale the data as shown in:\n",
      "    https://scikit-learn.org/stable/modules/preprocessing.html\n",
      "Please also refer to the documentation for alternative solver options:\n",
      "    https://scikit-learn.org/stable/modules/linear_model.html#logistic-regression\n",
      "  n_iter_i = _check_optimize_result(\n"
     ]
    },
    {
     "data": {
      "text/plain": [
       "0.6721854304635762"
      ]
     },
     "execution_count": 72,
     "metadata": {},
     "output_type": "execute_result"
    }
   ],
   "source": [
    "from sklearn.linear_model import LogisticRegression\n",
    "from sklearn.metrics import accuracy_score\n",
    "from sklearn.model_selection import train_test_split\n",
    "from sklearn.preprocessing import StandardScaler\n",
    "#Now that we are done with the cleaning and processing data,\n",
    "#we can split the data frame into train and test data.\n",
    "X_train, X_test, y_train, y_test = train_test_split(X,y,test_size=0.25)\n",
    "scaler = StandardScaler()\n",
    "scaled_X_train = scaler.fit_transform(X_train)\n",
    "scaled_X_test = scaler.transform(X_test)\n",
    "#Define the model\n",
    "softmax_model = LogisticRegression(multi_class=\"multinomial\",solver=\"lbfgs\", C=10, random_state=50)\n",
    "#Training model\n",
    "softmax_model.fit(scaled_X_train,y_train)\n",
    "#Forecast data\n",
    "y_pred = softmax_model.predict(scaled_X_test)\n",
    "accuracy_score(y_test,y_pred)"
   ]
  },
  {
   "cell_type": "markdown",
   "metadata": {},
   "source": [
    "The accuracy is near to 0.67 major than 0.52. Then reject the null hypothesis in favour of the alternative hypothesis."
   ]
  },
  {
   "cell_type": "markdown",
   "metadata": {},
   "source": [
    "Let's do some more test..."
   ]
  },
  {
   "cell_type": "markdown",
   "metadata": {},
   "source": [
    "The stratify parameter will ensure that the train and test split has the same class distribution ratio as the original dataset. It is crucial in the case of imbalanced datasets. Otherwise, it might happen that the training data only consists of the majority class."
   ]
  },
  {
   "cell_type": "code",
   "execution_count": 86,
   "metadata": {},
   "outputs": [
    {
     "name": "stdout",
     "output_type": "stream",
     "text": [
      "(903, 21) (903,) (302, 21) (302,)\n"
     ]
    }
   ],
   "source": [
    "#from sklearn.model_selection import train_test_split\n",
    "X_train, X_test, y_train, y_test = train_test_split(X,y,test_size=0.25, stratify=y)\n",
    "print(X_train.shape, y_train.shape, X_test.shape, y_test.shape)"
   ]
  },
  {
   "cell_type": "code",
   "execution_count": 87,
   "metadata": {},
   "outputs": [],
   "source": [
    "from sklearn.preprocessing import StandardScaler\n",
    "scaler = StandardScaler()\n",
    "scaled_X_train = pd.DataFrame(scaler.fit_transform(X_train))\n",
    "scaled_X_test = pd.DataFrame(scaler.transform(X_test))"
   ]
  },
  {
   "cell_type": "markdown",
   "metadata": {},
   "source": [
    " we scale the features using StandardScaler() to perform well"
   ]
  },
  {
   "cell_type": "code",
   "execution_count": 75,
   "metadata": {},
   "outputs": [
    {
     "data": {
      "text/plain": [
       "Moderate    468\n",
       "Low         360\n",
       "High         75\n",
       "Name: adaptivity_level, dtype: int64"
      ]
     },
     "execution_count": 75,
     "metadata": {},
     "output_type": "execute_result"
    }
   ],
   "source": [
    "y_train.value_counts()"
   ]
  },
  {
   "cell_type": "code",
   "execution_count": 88,
   "metadata": {},
   "outputs": [
    {
     "name": "stderr",
     "output_type": "stream",
     "text": [
      "c:\\Users\\Jannet\\Anaconda3\\envs\\dhdsblend2021\\lib\\site-packages\\sklearn\\linear_model\\_logistic.py:762: ConvergenceWarning: lbfgs failed to converge (status=1):\n",
      "STOP: TOTAL NO. of ITERATIONS REACHED LIMIT.\n",
      "\n",
      "Increase the number of iterations (max_iter) or scale the data as shown in:\n",
      "    https://scikit-learn.org/stable/modules/preprocessing.html\n",
      "Please also refer to the documentation for alternative solver options:\n",
      "    https://scikit-learn.org/stable/modules/linear_model.html#logistic-regression\n",
      "  n_iter_i = _check_optimize_result(\n"
     ]
    },
    {
     "data": {
      "text/plain": [
       "0.6887417218543046"
      ]
     },
     "execution_count": 88,
     "metadata": {},
     "output_type": "execute_result"
    }
   ],
   "source": [
    "#softmax_model = LogisticRegression(multi_class=\"multinomial\",solver=\"lbfgs\", C=10, random_state=50)\n",
    "#Training model\n",
    "softmax_model.fit(scaled_X_train,y_train)\n",
    "#Forecast data\n",
    "y_pred = softmax_model.predict(scaled_X_test)\n",
    "accuracy_score(y_test,y_pred)"
   ]
  },
  {
   "cell_type": "markdown",
   "metadata": {},
   "source": [
    "Well...Stratify improve our model, let's keeping exploring other techniques"
   ]
  },
  {
   "cell_type": "markdown",
   "metadata": {},
   "source": [
    " Oversampling is one of the most widely used techniques to deal with imbalance classes.\n",
    "Let's use SMOTE"
   ]
  },
  {
   "cell_type": "code",
   "execution_count": 94,
   "metadata": {},
   "outputs": [],
   "source": [
    "from imblearn.over_sampling import SMOTE\n",
    "sm = SMOTE(random_state = 2 )\n",
    "smote_X_train, smote_y_train = sm.fit_resample(scaled_X_train, y_train)"
   ]
  },
  {
   "cell_type": "code",
   "execution_count": 95,
   "metadata": {},
   "outputs": [
    {
     "data": {
      "text/plain": [
       "Moderate    468\n",
       "High        468\n",
       "Low         468\n",
       "Name: adaptivity_level, dtype: int64"
      ]
     },
     "execution_count": 95,
     "metadata": {},
     "output_type": "execute_result"
    }
   ],
   "source": [
    "smote_y_train.value_counts()"
   ]
  },
  {
   "cell_type": "code",
   "execution_count": 91,
   "metadata": {},
   "outputs": [
    {
     "name": "stderr",
     "output_type": "stream",
     "text": [
      "c:\\Users\\Jannet\\Anaconda3\\envs\\dhdsblend2021\\lib\\site-packages\\sklearn\\linear_model\\_logistic.py:762: ConvergenceWarning: lbfgs failed to converge (status=1):\n",
      "STOP: TOTAL NO. of ITERATIONS REACHED LIMIT.\n",
      "\n",
      "Increase the number of iterations (max_iter) or scale the data as shown in:\n",
      "    https://scikit-learn.org/stable/modules/preprocessing.html\n",
      "Please also refer to the documentation for alternative solver options:\n",
      "    https://scikit-learn.org/stable/modules/linear_model.html#logistic-regression\n",
      "  n_iter_i = _check_optimize_result(\n"
     ]
    },
    {
     "data": {
      "text/plain": [
       "0.5927152317880795"
      ]
     },
     "execution_count": 91,
     "metadata": {},
     "output_type": "execute_result"
    }
   ],
   "source": [
    "#Define the model\n",
    "#softmax_model = LogisticRegression(multi_class=\"multinomial\",solver=\"lbfgs\", C=10, random_state=50)\n",
    "#Training model\n",
    "softmax_model.fit(smote_X_train,smote_y_train)\n",
    "#Forecast data\n",
    "y_pred = softmax_model.predict(scaled_X_test)\n",
    "accuracy_score(y_test,y_pred)"
   ]
  },
  {
   "cell_type": "markdown",
   "metadata": {},
   "source": [
    "Well... Smote doesn't improve so much the model in this case"
   ]
  },
  {
   "cell_type": "code",
   "execution_count": 92,
   "metadata": {},
   "outputs": [
    {
     "data": {
      "text/plain": [
       "<sklearn.metrics._plot.confusion_matrix.ConfusionMatrixDisplay at 0x1e17cc66130>"
      ]
     },
     "execution_count": 92,
     "metadata": {},
     "output_type": "execute_result"
    },
    {
     "data": {
      "image/png": "[encoded data removed]",
      "text/plain": [
       "<Figure size 432x288 with 2 Axes>"
      ]
     },
     "metadata": {
      "needs_background": "light"
     },
     "output_type": "display_data"
    }
   ],
   "source": [
    "from sklearn.metrics import plot_confusion_matrix\n",
    "plot_confusion_matrix(softmax_model,scaled_X_test,y_test)"
   ]
  },
  {
   "cell_type": "code",
   "execution_count": 96,
   "metadata": {},
   "outputs": [
    {
     "name": "stdout",
     "output_type": "stream",
     "text": [
      "              precision    recall  f1-score   support\n",
      "\n",
      "        High       0.33      0.76      0.46        25\n",
      "         Low       0.60      0.66      0.63       120\n",
      "    Moderate       0.71      0.52      0.60       157\n",
      "\n",
      "    accuracy                           0.59       302\n",
      "   macro avg       0.55      0.64      0.56       302\n",
      "weighted avg       0.64      0.59      0.60       302\n",
      "\n"
     ]
    }
   ],
   "source": [
    "from sklearn.metrics import classification_report\n",
    "print(classification_report( y_test,y_pred))"
   ]
  }
 ],
 "metadata": {
  "interpreter": {
   "hash": "1cb779b4ccea16fedb6223bb1e485e577c039bcf1a4e3b9f387fd5fe12c24261"
  },
  "kernelspec": {
   "display_name": "Python 3.8.12",
   "language": "python",
   "name": "python3"
  },
  "language_info": {
   "codemirror_mode": {
    "name": "ipython",
    "version": 3
   },
   "file_extension": ".py",
   "mimetype": "text/x-python",
   "name": "python",
   "nbconvert_exporter": "python",
   "pygments_lexer": "ipython3",
   "version": "3.8.12"
  }
 },
 "nbformat": 4,
 "nbformat_minor": 4
}
